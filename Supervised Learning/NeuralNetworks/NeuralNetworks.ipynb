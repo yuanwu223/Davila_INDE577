{
 "cells": [
  {
   "metadata": {},
   "cell_type": "markdown",
   "source": "<center><h1>Neural Networks</h1></center>",
   "id": "c3c781bb91dce0f6"
  },
  {
   "metadata": {},
   "cell_type": "markdown",
   "source": "# 1. Introduction",
   "id": "a16ea1282bc8ab74"
  },
  {
   "metadata": {},
   "cell_type": "markdown",
   "source": [
    "Neural networks are a fundamental concept in modern machine learning and artificial intelligence, inspired by the structure and function of the human brain. They consist of interconnected layers of neurons that process information in a hierarchical manner, enabling them to learn complex patterns from data.\n",
    "\n",
    "At their core, neural networks use **weighted connections** and **activation functions** to transform inputs into meaningful outputs. By adjusting these weights through training algorithms such as **backpropagation** and **gradient descent**, neural networks can improve their performance on various tasks, including classification, regression, and pattern recognition.\n",
    "\n",
    "Neural networks have gained widespread adoption due to their ability to handle high-dimensional and unstructured data, such as **images, text, and audio**. With the advent of deep learning, deeper architectures like **Convolutional Neural Networks (CNNs)** and **Recurrent Neural Networks (RNNs)** have been developed to tackle complex problems in **computer vision, natural language processing,** and more.\n",
    "\n",
    "In this notebook, we will explore the fundamental concepts of neural networks, covering their **architecture, training process, and key applications**. Through hands-on implementations, we will gain a deeper understanding of how neural networks work and how they can be applied to real-world problems.\n"
   ],
   "id": "208d2782975325a4"
  },
  {
   "metadata": {},
   "cell_type": "markdown",
   "source": "![Neural Networks](NeuralNetworks.webp)",
   "id": "7bdf8a2d634bd305"
  },
  {
   "metadata": {},
   "cell_type": "markdown",
   "source": "# 2. How Does Neural Networks Work?",
   "id": "705f791e457820a9"
  },
  {
   "metadata": {},
   "cell_type": "markdown",
   "source": [
    "Neural networks function by simulating the way biological neurons process and transmit information. They consist of layers of artificial neurons that perform mathematical operations on input data to extract meaningful patterns. The main components of a neural network include:\n",
    "\n",
    "## 1. Neurons and Layers\n",
    "A neural network is composed of multiple layers:\n",
    "\n",
    "- **Input Layer:** Receives raw data and passes it to the next layer.\n",
    "- **Hidden Layers:** Perform computations and extract features using weighted connections and activation functions. The depth of a network depends on the number of hidden layers.\n",
    "- **Output Layer:** Produces the final prediction or classification result.\n",
    "\n",
    "## 2. Weights and Biases\n",
    "Each connection between neurons has an associated **weight**, which determines the strength of the connection. Additionally, each neuron has a **bias** that allows the model to shift the activation threshold, improving flexibility in learning. The goal of training a neural network is to adjust these weights and biases to minimize prediction errors.\n",
    "\n",
    "## 3. Activation Functions\n",
    "Activation functions introduce non-linearity, enabling the network to learn complex patterns. Common activation functions include:\n",
    "\n",
    "- **Sigmoid:** $$\\sigma(x) = \\frac{1}{1 + e^{-x}}$$ (Useful for probabilities)\n",
    "- **ReLU (Rectified Linear Unit):** $$f(x) = \\max(0, x)$$ (Speeds up training)\n",
    "- **Tanh:** $$\\tanh(x) = \\frac{e^x - e^{-x}}{e^x + e^{-x}}$$ (Ranges between -1 and 1)\n",
    "\n",
    "## 4. Forward Propagation\n",
    "In forward propagation, input data passes through the network layer by layer, where each neuron applies weights, biases, and activation functions to compute the output. Mathematically, this can be represented as:\n",
    "\n",
    "$$\n",
    "\\text{Output} = \\text{Activation} (W \\cdot X + b)\n",
    "$$\n",
    "\n",
    "where:\n",
    "- $X$ is the input vector,\n",
    "- $W$ is the weight matrix,\n",
    "- $b$ is the bias term,\n",
    "- The activation function introduces non-linearity.\n",
    "\n",
    "## 5. Loss Function\n",
    "After generating an output, the network evaluates how far its prediction is from the actual target using a **loss function**. Common loss functions include:\n",
    "\n",
    "- **Mean Squared Error (MSE):** For regression problems.\n",
    "- **Cross-Entropy Loss:** For classification problems.\n",
    "\n",
    "## 6. Backpropagation and Gradient Descent\n",
    "To improve accuracy, the network adjusts its weights using **backpropagation**, which computes the gradient of the loss function with respect to each weight using the **chain rule of calculus**. The weights are then updated using **gradient descent**:\n",
    "\n",
    "$$\n",
    "W_{\\text{new}} = W_{\\text{old}} - \\alpha \\frac{\\partial L}{\\partial W}\n",
    "$$\n",
    "\n",
    "where $\\alpha$ (learning rate) controls how much weights are updated in each step.\n",
    "\n",
    "## 7. Training Process\n",
    "Neural networks are trained in an iterative process:\n",
    "1. **Initialize** weights and biases.\n",
    "2. **Feedforward:** Compute output for given input data.\n",
    "3. **Compute loss:** Measure error between predicted and actual values.\n",
    "4. **Backpropagate:** Adjust weights using gradient descent.\n",
    "5. **Repeat** steps 2-4 until the loss converges to a minimum.\n",
    "\n",
    "## 8. Final Prediction\n",
    "After training, the model can generalize learned patterns to new data and make predictions with high accuracy.\n",
    "\n",
    "---"
   ],
   "id": "8027fba068dd6b5f"
  },
  {
   "metadata": {},
   "cell_type": "markdown",
   "source": "# 3. About the Yelp Reviews Dataset",
   "id": "3641750c8fea05a"
  },
  {
   "metadata": {},
   "cell_type": "markdown",
   "source": [
    "## Context\n",
    "This dataset is a subset of Yelp's businesses, reviews, and user data. It was originally put together for the **Yelp Dataset Challenge**, which is a chance for students to conduct research or analysis on Yelp's data and share their discoveries. In the most recent dataset, you'll find information about businesses across 8 metropolitan areas in the USA and Canada.\n",
    "\n",
    "## Files:\n",
    "\n",
    "### **yelp_academic_dataset_business.json**:\n",
    "This file typically contains information about businesses listed on Yelp, including details like:\n",
    "- Business name\n",
    "- Location\n",
    "- Categories\n",
    "- Ratings\n",
    "- Reviews count\n",
    "\n",
    "### **yelp_academic_dataset_checkin.json**:\n",
    "This file usually holds check-in data, which indicates how many times users have checked into various businesses. It helps track business popularity over time.\n",
    "\n",
    "### **yelp_academic_dataset_review.json**:\n",
    "This is the main file for text analysis, containing reviews from users. It includes the following:\n",
    "- Review IDs\n",
    "- User IDs\n",
    "- Business IDs\n",
    "- Review text\n",
    "- Rating\n",
    "- Timestamps\n",
    "\n",
    "---"
   ],
   "id": "994ed1c9c923687e"
  },
  {
   "metadata": {},
   "cell_type": "markdown",
   "source": "# 4. Steps to Apply Neural Networks to Dataset",
   "id": "5519738262f090f1"
  },
  {
   "metadata": {},
   "cell_type": "markdown",
   "source": [
    "## Step 1. Load the Dataset\n",
    "\n",
    "First, we load the `yelp_academic_dataset_review.json` file using **pandas**. Since the reviews are stored in JSON format, we will use the `read_json` function.\n"
   ],
   "id": "bdee2b2f63df4d00"
  },
  {
   "metadata": {
    "ExecuteTime": {
     "end_time": "2025-03-27T21:21:27.308193Z",
     "start_time": "2025-03-27T21:21:26.837699Z"
    }
   },
   "cell_type": "code",
   "source": [
    "import pandas as pd\n",
    "\n",
    "# Load a small sample of the review dataset\n",
    "review_df = pd.read_json('yelp_academic_dataset_review.json', lines=True, nrows=10000)\n",
    "\n",
    "# Show the first few rows\n",
    "review_df.head()\n"
   ],
   "id": "7c62b00410b59368",
   "outputs": [
    {
     "data": {
      "text/plain": [
       "                review_id                 user_id             business_id  \\\n",
       "0  KU_O5udG6zpxOg-VcAEodg  mh_-eMZ6K5RLWhZyISBhwA  XQfwVwDr-v0ZS3_CbbE5Xw   \n",
       "1  BiTunyQ73aT9WBnpR9DZGw  OyoGAe7OKpv6SyGZT5g77Q  7ATYjTIgM3jUlt4UM3IypQ   \n",
       "2  saUsX_uimxRlCVr67Z4Jig  8g_iMtfSiwikVnbP2etR0A  YjUWPpI6HXG530lwP-fb2A   \n",
       "3  AqPFMleE6RsU23_auESxiA  _7bHUi9Uuf5__HHc_Q8guQ  kxX2SOes4o-D3ZQBkiMRfA   \n",
       "4  Sx8TMOWLNuJBWer-0pcmoA  bcjbaE6dDog4jkNY91ncLQ  e4Vwtrqf-wpJfwesgvdgxQ   \n",
       "\n",
       "   stars  useful  funny  cool  \\\n",
       "0      3       0      0     0   \n",
       "1      5       1      0     1   \n",
       "2      3       0      0     0   \n",
       "3      5       1      0     1   \n",
       "4      4       1      0     1   \n",
       "\n",
       "                                                text                date  \n",
       "0  If you decide to eat here, just be aware it is... 2018-07-07 22:09:11  \n",
       "1  I've taken a lot of spin classes over the year... 2012-01-03 15:28:18  \n",
       "2  Family diner. Had the buffet. Eclectic assortm... 2014-02-05 20:30:30  \n",
       "3  Wow!  Yummy, different,  delicious.   Our favo... 2015-01-04 00:01:03  \n",
       "4  Cute interior and owner (?) gave us tour of up... 2017-01-14 20:54:15  "
      ],
      "text/html": [
       "<div>\n",
       "<style scoped>\n",
       "    .dataframe tbody tr th:only-of-type {\n",
       "        vertical-align: middle;\n",
       "    }\n",
       "\n",
       "    .dataframe tbody tr th {\n",
       "        vertical-align: top;\n",
       "    }\n",
       "\n",
       "    .dataframe thead th {\n",
       "        text-align: right;\n",
       "    }\n",
       "</style>\n",
       "<table border=\"1\" class=\"dataframe\">\n",
       "  <thead>\n",
       "    <tr style=\"text-align: right;\">\n",
       "      <th></th>\n",
       "      <th>review_id</th>\n",
       "      <th>user_id</th>\n",
       "      <th>business_id</th>\n",
       "      <th>stars</th>\n",
       "      <th>useful</th>\n",
       "      <th>funny</th>\n",
       "      <th>cool</th>\n",
       "      <th>text</th>\n",
       "      <th>date</th>\n",
       "    </tr>\n",
       "  </thead>\n",
       "  <tbody>\n",
       "    <tr>\n",
       "      <th>0</th>\n",
       "      <td>KU_O5udG6zpxOg-VcAEodg</td>\n",
       "      <td>mh_-eMZ6K5RLWhZyISBhwA</td>\n",
       "      <td>XQfwVwDr-v0ZS3_CbbE5Xw</td>\n",
       "      <td>3</td>\n",
       "      <td>0</td>\n",
       "      <td>0</td>\n",
       "      <td>0</td>\n",
       "      <td>If you decide to eat here, just be aware it is...</td>\n",
       "      <td>2018-07-07 22:09:11</td>\n",
       "    </tr>\n",
       "    <tr>\n",
       "      <th>1</th>\n",
       "      <td>BiTunyQ73aT9WBnpR9DZGw</td>\n",
       "      <td>OyoGAe7OKpv6SyGZT5g77Q</td>\n",
       "      <td>7ATYjTIgM3jUlt4UM3IypQ</td>\n",
       "      <td>5</td>\n",
       "      <td>1</td>\n",
       "      <td>0</td>\n",
       "      <td>1</td>\n",
       "      <td>I've taken a lot of spin classes over the year...</td>\n",
       "      <td>2012-01-03 15:28:18</td>\n",
       "    </tr>\n",
       "    <tr>\n",
       "      <th>2</th>\n",
       "      <td>saUsX_uimxRlCVr67Z4Jig</td>\n",
       "      <td>8g_iMtfSiwikVnbP2etR0A</td>\n",
       "      <td>YjUWPpI6HXG530lwP-fb2A</td>\n",
       "      <td>3</td>\n",
       "      <td>0</td>\n",
       "      <td>0</td>\n",
       "      <td>0</td>\n",
       "      <td>Family diner. Had the buffet. Eclectic assortm...</td>\n",
       "      <td>2014-02-05 20:30:30</td>\n",
       "    </tr>\n",
       "    <tr>\n",
       "      <th>3</th>\n",
       "      <td>AqPFMleE6RsU23_auESxiA</td>\n",
       "      <td>_7bHUi9Uuf5__HHc_Q8guQ</td>\n",
       "      <td>kxX2SOes4o-D3ZQBkiMRfA</td>\n",
       "      <td>5</td>\n",
       "      <td>1</td>\n",
       "      <td>0</td>\n",
       "      <td>1</td>\n",
       "      <td>Wow!  Yummy, different,  delicious.   Our favo...</td>\n",
       "      <td>2015-01-04 00:01:03</td>\n",
       "    </tr>\n",
       "    <tr>\n",
       "      <th>4</th>\n",
       "      <td>Sx8TMOWLNuJBWer-0pcmoA</td>\n",
       "      <td>bcjbaE6dDog4jkNY91ncLQ</td>\n",
       "      <td>e4Vwtrqf-wpJfwesgvdgxQ</td>\n",
       "      <td>4</td>\n",
       "      <td>1</td>\n",
       "      <td>0</td>\n",
       "      <td>1</td>\n",
       "      <td>Cute interior and owner (?) gave us tour of up...</td>\n",
       "      <td>2017-01-14 20:54:15</td>\n",
       "    </tr>\n",
       "  </tbody>\n",
       "</table>\n",
       "</div>"
      ]
     },
     "execution_count": 4,
     "metadata": {},
     "output_type": "execute_result"
    }
   ],
   "execution_count": 4
  },
  {
   "metadata": {},
   "cell_type": "markdown",
   "source": [
    "## Step 2: Data Preprocessing\n",
    "\n",
    "Before we can train a neural network model, we need to preprocess the data. The preprocessing steps include creating sentiment labels, cleaning the text data, tokenizing the text, and padding the sequences.\n",
    "\n",
    "### 1. Sentiment Label\n",
    "We will create a binary sentiment label based on the `stars` column. Reviews with a rating of 4 or 5 will be labeled as positive, and ratings of 1 or 2 will be labeled as negative. Reviews with a rating of 3 can be either ignored or treated as neutral, depending on your preference.\n"
   ],
   "id": "d893be05a5ac0992"
  },
  {
   "metadata": {
    "ExecuteTime": {
     "end_time": "2025-03-27T21:26:01.593088Z",
     "start_time": "2025-03-27T21:26:01.567965Z"
    }
   },
   "cell_type": "code",
   "source": [
    "# Create a binary sentiment column: 1 for positive, 0 for negative\n",
    "review_df['sentiment'] = review_df['stars'].apply(lambda x: 1 if x > 3 else 0)"
   ],
   "id": "fa92489b5270ac5",
   "outputs": [],
   "execution_count": 5
  },
  {
   "metadata": {},
   "cell_type": "markdown",
   "source": [
    "### 2. Text Cleaning\n",
    "\n",
    "We will clean the review text by removing special characters and converting all text to lowercase. This process helps standardize the text and removes unnecessary noise, making it more suitable for further analysis or model training.\n"
   ],
   "id": "ef23b7520c72f6f1"
  },
  {
   "metadata": {
    "ExecuteTime": {
     "end_time": "2025-03-27T21:26:26.849743Z",
     "start_time": "2025-03-27T21:26:26.639271Z"
    }
   },
   "cell_type": "code",
   "source": [
    "import re\n",
    "import string\n",
    "\n",
    "def clean_text(text):\n",
    "    # Convert text to lowercase\n",
    "    text = text.lower()\n",
    "\n",
    "    # Remove punctuation using regular expressions\n",
    "    text = re.sub(f\"[{string.punctuation}]\", '', text)\n",
    "\n",
    "    return text\n",
    "\n",
    "# Apply the text cleaning function to the review text column\n",
    "review_df['cleaned_text'] = review_df['text'].apply(clean_text)"
   ],
   "id": "90e631b920427e8d",
   "outputs": [],
   "execution_count": 6
  },
  {
   "metadata": {},
   "cell_type": "markdown",
   "source": [
    "### 3. Tokenization\n",
    "\n",
    "Next, we will tokenize the review text using Keras' `Tokenizer` class. Tokenization converts each word in the text into a unique integer. These integers represent the words and can be used as input to a neural network model for training.\n",
    "\n"
   ],
   "id": "a3c8613da198dda4"
  },
  {
   "metadata": {
    "ExecuteTime": {
     "end_time": "2025-03-27T21:28:35.179010Z",
     "start_time": "2025-03-27T21:27:36.738968Z"
    }
   },
   "cell_type": "code",
   "source": "!pip install tensorflow",
   "id": "7433b1c975960152",
   "outputs": [
    {
     "name": "stdout",
     "output_type": "stream",
     "text": [
      "Collecting tensorflow\n",
      "  Downloading tensorflow-2.19.0-cp312-cp312-win_amd64.whl.metadata (4.1 kB)\n",
      "Collecting absl-py>=1.0.0 (from tensorflow)\n",
      "  Downloading absl_py-2.2.1-py3-none-any.whl.metadata (2.4 kB)\n",
      "Collecting astunparse>=1.6.0 (from tensorflow)\n",
      "  Using cached astunparse-1.6.3-py2.py3-none-any.whl.metadata (4.4 kB)\n",
      "Collecting flatbuffers>=24.3.25 (from tensorflow)\n",
      "  Downloading flatbuffers-25.2.10-py2.py3-none-any.whl.metadata (875 bytes)\n",
      "Collecting gast!=0.5.0,!=0.5.1,!=0.5.2,>=0.2.1 (from tensorflow)\n",
      "  Downloading gast-0.6.0-py3-none-any.whl.metadata (1.3 kB)\n",
      "Collecting google-pasta>=0.1.1 (from tensorflow)\n",
      "  Using cached google_pasta-0.2.0-py3-none-any.whl.metadata (814 bytes)\n",
      "Collecting libclang>=13.0.0 (from tensorflow)\n",
      "  Using cached libclang-18.1.1-py2.py3-none-win_amd64.whl.metadata (5.3 kB)\n",
      "Collecting opt-einsum>=2.3.2 (from tensorflow)\n",
      "  Using cached opt_einsum-3.4.0-py3-none-any.whl.metadata (6.3 kB)\n",
      "Requirement already satisfied: packaging in c:\\users\\thinkbook14\\miniconda3\\lib\\site-packages (from tensorflow) (24.1)\n",
      "Collecting protobuf!=4.21.0,!=4.21.1,!=4.21.2,!=4.21.3,!=4.21.4,!=4.21.5,<6.0.0dev,>=3.20.3 (from tensorflow)\n",
      "  Downloading protobuf-5.29.4-cp310-abi3-win_amd64.whl.metadata (592 bytes)\n",
      "Requirement already satisfied: requests<3,>=2.21.0 in c:\\users\\thinkbook14\\miniconda3\\lib\\site-packages (from tensorflow) (2.32.3)\n",
      "Requirement already satisfied: setuptools in c:\\users\\thinkbook14\\miniconda3\\lib\\site-packages (from tensorflow) (72.1.0)\n",
      "Requirement already satisfied: six>=1.12.0 in c:\\users\\thinkbook14\\miniconda3\\lib\\site-packages (from tensorflow) (1.17.0)\n",
      "Collecting termcolor>=1.1.0 (from tensorflow)\n",
      "  Downloading termcolor-2.5.0-py3-none-any.whl.metadata (6.1 kB)\n",
      "Requirement already satisfied: typing-extensions>=3.6.6 in c:\\users\\thinkbook14\\miniconda3\\lib\\site-packages (from tensorflow) (4.12.2)\n",
      "Collecting wrapt>=1.11.0 (from tensorflow)\n",
      "  Downloading wrapt-1.17.2-cp312-cp312-win_amd64.whl.metadata (6.5 kB)\n",
      "Collecting grpcio<2.0,>=1.24.3 (from tensorflow)\n",
      "  Downloading grpcio-1.71.0-cp312-cp312-win_amd64.whl.metadata (4.0 kB)\n",
      "Collecting tensorboard~=2.19.0 (from tensorflow)\n",
      "  Downloading tensorboard-2.19.0-py3-none-any.whl.metadata (1.8 kB)\n",
      "Collecting keras>=3.5.0 (from tensorflow)\n",
      "  Downloading keras-3.9.1-py3-none-any.whl.metadata (6.1 kB)\n",
      "Collecting numpy<2.2.0,>=1.26.0 (from tensorflow)\n",
      "  Downloading numpy-2.1.3-cp312-cp312-win_amd64.whl.metadata (60 kB)\n",
      "Collecting h5py>=3.11.0 (from tensorflow)\n",
      "  Downloading h5py-3.13.0-cp312-cp312-win_amd64.whl.metadata (2.5 kB)\n",
      "Collecting ml-dtypes<1.0.0,>=0.5.1 (from tensorflow)\n",
      "  Downloading ml_dtypes-0.5.1-cp312-cp312-win_amd64.whl.metadata (22 kB)\n",
      "Requirement already satisfied: wheel<1.0,>=0.23.0 in c:\\users\\thinkbook14\\miniconda3\\lib\\site-packages (from astunparse>=1.6.0->tensorflow) (0.43.0)\n",
      "Collecting rich (from keras>=3.5.0->tensorflow)\n",
      "  Downloading rich-13.9.4-py3-none-any.whl.metadata (18 kB)\n",
      "Collecting namex (from keras>=3.5.0->tensorflow)\n",
      "  Downloading namex-0.0.8-py3-none-any.whl.metadata (246 bytes)\n",
      "Collecting optree (from keras>=3.5.0->tensorflow)\n",
      "  Downloading optree-0.14.1-cp312-cp312-win_amd64.whl.metadata (50 kB)\n",
      "Requirement already satisfied: charset-normalizer<4,>=2 in c:\\users\\thinkbook14\\miniconda3\\lib\\site-packages (from requests<3,>=2.21.0->tensorflow) (3.3.2)\n",
      "Requirement already satisfied: idna<4,>=2.5 in c:\\users\\thinkbook14\\miniconda3\\lib\\site-packages (from requests<3,>=2.21.0->tensorflow) (3.7)\n",
      "Requirement already satisfied: urllib3<3,>=1.21.1 in c:\\users\\thinkbook14\\miniconda3\\lib\\site-packages (from requests<3,>=2.21.0->tensorflow) (2.2.2)\n",
      "Requirement already satisfied: certifi>=2017.4.17 in c:\\users\\thinkbook14\\miniconda3\\lib\\site-packages (from requests<3,>=2.21.0->tensorflow) (2024.7.4)\n",
      "Collecting markdown>=2.6.8 (from tensorboard~=2.19.0->tensorflow)\n",
      "  Using cached Markdown-3.7-py3-none-any.whl.metadata (7.0 kB)\n",
      "Collecting tensorboard-data-server<0.8.0,>=0.7.0 (from tensorboard~=2.19.0->tensorflow)\n",
      "  Using cached tensorboard_data_server-0.7.2-py3-none-any.whl.metadata (1.1 kB)\n",
      "Collecting werkzeug>=1.0.1 (from tensorboard~=2.19.0->tensorflow)\n",
      "  Downloading werkzeug-3.1.3-py3-none-any.whl.metadata (3.7 kB)\n",
      "Requirement already satisfied: MarkupSafe>=2.1.1 in c:\\users\\thinkbook14\\miniconda3\\lib\\site-packages (from werkzeug>=1.0.1->tensorboard~=2.19.0->tensorflow) (3.0.2)\n",
      "Collecting markdown-it-py>=2.2.0 (from rich->keras>=3.5.0->tensorflow)\n",
      "  Downloading markdown_it_py-3.0.0-py3-none-any.whl.metadata (6.9 kB)\n",
      "Requirement already satisfied: pygments<3.0.0,>=2.13.0 in c:\\users\\thinkbook14\\miniconda3\\lib\\site-packages (from rich->keras>=3.5.0->tensorflow) (2.19.1)\n",
      "Collecting mdurl~=0.1 (from markdown-it-py>=2.2.0->rich->keras>=3.5.0->tensorflow)\n",
      "  Downloading mdurl-0.1.2-py3-none-any.whl.metadata (1.6 kB)\n",
      "Downloading tensorflow-2.19.0-cp312-cp312-win_amd64.whl (376.0 MB)\n",
      "   ---------------------------------------- 0.0/376.0 MB ? eta -:--:--\n",
      "   ---------------------------------------- 2.1/376.0 MB 13.1 MB/s eta 0:00:29\n",
      "    --------------------------------------- 5.5/376.0 MB 15.3 MB/s eta 0:00:25\n",
      "    --------------------------------------- 8.7/376.0 MB 15.3 MB/s eta 0:00:24\n",
      "   - -------------------------------------- 12.1/376.0 MB 15.4 MB/s eta 0:00:24\n",
      "   - -------------------------------------- 15.2/376.0 MB 15.4 MB/s eta 0:00:24\n",
      "   - -------------------------------------- 17.6/376.0 MB 14.8 MB/s eta 0:00:25\n",
      "   -- ------------------------------------- 21.5/376.0 MB 15.4 MB/s eta 0:00:23\n",
      "   -- ------------------------------------- 25.4/376.0 MB 15.9 MB/s eta 0:00:22\n",
      "   --- ------------------------------------ 28.6/376.0 MB 15.9 MB/s eta 0:00:22\n",
      "   --- ------------------------------------ 33.3/376.0 MB 16.5 MB/s eta 0:00:21\n",
      "   --- ------------------------------------ 37.0/376.0 MB 16.7 MB/s eta 0:00:21\n",
      "   ---- ----------------------------------- 40.9/376.0 MB 17.0 MB/s eta 0:00:20\n",
      "   ---- ----------------------------------- 44.3/376.0 MB 16.8 MB/s eta 0:00:20\n",
      "   ----- ---------------------------------- 48.0/376.0 MB 17.0 MB/s eta 0:00:20\n",
      "   ----- ---------------------------------- 50.1/376.0 MB 16.5 MB/s eta 0:00:20\n",
      "   ----- ---------------------------------- 51.9/376.0 MB 16.0 MB/s eta 0:00:21\n",
      "   ----- ---------------------------------- 54.3/376.0 MB 15.8 MB/s eta 0:00:21\n",
      "   ----- ---------------------------------- 55.6/376.0 MB 15.4 MB/s eta 0:00:21\n",
      "   ------ --------------------------------- 57.7/376.0 MB 14.9 MB/s eta 0:00:22\n",
      "   ------ --------------------------------- 59.5/376.0 MB 14.6 MB/s eta 0:00:22\n",
      "   ------ --------------------------------- 61.3/376.0 MB 14.4 MB/s eta 0:00:22\n",
      "   ------ --------------------------------- 64.5/376.0 MB 14.4 MB/s eta 0:00:22\n",
      "   ------- -------------------------------- 69.5/376.0 MB 14.8 MB/s eta 0:00:21\n",
      "   ------- -------------------------------- 72.6/376.0 MB 14.8 MB/s eta 0:00:21\n",
      "   ------- -------------------------------- 73.9/376.0 MB 14.6 MB/s eta 0:00:21\n",
      "   -------- ------------------------------- 76.8/376.0 MB 14.5 MB/s eta 0:00:21\n",
      "   -------- ------------------------------- 80.7/376.0 MB 14.7 MB/s eta 0:00:21\n",
      "   --------- ------------------------------ 85.2/376.0 MB 14.9 MB/s eta 0:00:20\n",
      "   --------- ------------------------------ 88.6/376.0 MB 15.0 MB/s eta 0:00:20\n",
      "   --------- ------------------------------ 93.3/376.0 MB 15.3 MB/s eta 0:00:19\n",
      "   ---------- ----------------------------- 95.7/376.0 MB 15.2 MB/s eta 0:00:19\n",
      "   ---------- ----------------------------- 99.1/376.0 MB 15.2 MB/s eta 0:00:19\n",
      "   ---------- ---------------------------- 101.7/376.0 MB 15.1 MB/s eta 0:00:19\n",
      "   ---------- ---------------------------- 105.4/376.0 MB 15.2 MB/s eta 0:00:18\n",
      "   ----------- --------------------------- 109.3/376.0 MB 15.3 MB/s eta 0:00:18\n",
      "   ----------- --------------------------- 114.6/376.0 MB 15.6 MB/s eta 0:00:17\n",
      "   ------------ -------------------------- 118.5/376.0 MB 15.7 MB/s eta 0:00:17\n",
      "   ------------ -------------------------- 121.4/376.0 MB 15.6 MB/s eta 0:00:17\n",
      "   ------------ -------------------------- 122.9/376.0 MB 15.5 MB/s eta 0:00:17\n",
      "   ------------- ------------------------- 126.1/376.0 MB 15.4 MB/s eta 0:00:17\n",
      "   ------------- ------------------------- 130.0/376.0 MB 15.4 MB/s eta 0:00:16\n",
      "   -------------- ------------------------ 135.5/376.0 MB 15.7 MB/s eta 0:00:16\n",
      "   -------------- ------------------------ 139.2/376.0 MB 15.8 MB/s eta 0:00:16\n",
      "   -------------- ------------------------ 142.3/376.0 MB 15.7 MB/s eta 0:00:15\n",
      "   -------------- ------------------------ 144.4/376.0 MB 15.6 MB/s eta 0:00:15\n",
      "   --------------- ----------------------- 147.3/376.0 MB 15.6 MB/s eta 0:00:15\n",
      "   --------------- ----------------------- 151.5/376.0 MB 15.7 MB/s eta 0:00:15\n",
      "   ---------------- ---------------------- 154.4/376.0 MB 15.7 MB/s eta 0:00:15\n",
      "   ---------------- ---------------------- 157.3/376.0 MB 15.6 MB/s eta 0:00:15\n",
      "   ---------------- ---------------------- 161.0/376.0 MB 15.6 MB/s eta 0:00:14\n",
      "   ----------------- --------------------- 165.4/376.0 MB 15.8 MB/s eta 0:00:14\n",
      "   ----------------- --------------------- 169.3/376.0 MB 15.8 MB/s eta 0:00:14\n",
      "   ----------------- --------------------- 171.7/376.0 MB 15.7 MB/s eta 0:00:13\n",
      "   ------------------ -------------------- 174.6/376.0 MB 15.7 MB/s eta 0:00:13\n",
      "   ------------------ -------------------- 178.3/376.0 MB 15.8 MB/s eta 0:00:13\n",
      "   ------------------ -------------------- 181.1/376.0 MB 15.7 MB/s eta 0:00:13\n",
      "   ------------------- ------------------- 185.3/376.0 MB 15.8 MB/s eta 0:00:13\n",
      "   ------------------- ------------------- 189.0/376.0 MB 15.8 MB/s eta 0:00:12\n",
      "   -------------------- ------------------ 193.2/376.0 MB 15.9 MB/s eta 0:00:12\n",
      "   -------------------- ------------------ 197.4/376.0 MB 16.0 MB/s eta 0:00:12\n",
      "   -------------------- ------------------ 202.1/376.0 MB 16.1 MB/s eta 0:00:11\n",
      "   --------------------- ----------------- 206.6/376.0 MB 16.2 MB/s eta 0:00:11\n",
      "   --------------------- ----------------- 210.8/376.0 MB 16.3 MB/s eta 0:00:11\n",
      "   ---------------------- ---------------- 212.9/376.0 MB 16.2 MB/s eta 0:00:11\n",
      "   ---------------------- ---------------- 216.8/376.0 MB 16.2 MB/s eta 0:00:10\n",
      "   ---------------------- ---------------- 220.7/376.0 MB 16.2 MB/s eta 0:00:10\n",
      "   ----------------------- --------------- 224.7/376.0 MB 16.3 MB/s eta 0:00:10\n",
      "   ----------------------- --------------- 229.4/376.0 MB 16.4 MB/s eta 0:00:09\n",
      "   ------------------------ -------------- 232.0/376.0 MB 16.3 MB/s eta 0:00:09\n",
      "   ------------------------ -------------- 237.2/376.0 MB 16.5 MB/s eta 0:00:09\n",
      "   ------------------------- ------------- 242.2/376.0 MB 16.6 MB/s eta 0:00:09\n",
      "   ------------------------- ------------- 247.5/376.0 MB 16.7 MB/s eta 0:00:08\n",
      "   -------------------------- ------------ 253.5/376.0 MB 16.9 MB/s eta 0:00:08\n",
      "   -------------------------- ------------ 259.0/376.0 MB 17.0 MB/s eta 0:00:07\n",
      "   --------------------------- ----------- 265.0/376.0 MB 17.2 MB/s eta 0:00:07\n",
      "   --------------------------- ----------- 269.5/376.0 MB 17.3 MB/s eta 0:00:07\n",
      "   ---------------------------- ---------- 275.0/376.0 MB 17.5 MB/s eta 0:00:06\n",
      "   ----------------------------- --------- 281.0/376.0 MB 17.7 MB/s eta 0:00:06\n",
      "   ----------------------------- --------- 286.3/376.0 MB 17.8 MB/s eta 0:00:06\n",
      "   ------------------------------ -------- 292.3/376.0 MB 18.0 MB/s eta 0:00:05\n",
      "   ------------------------------ -------- 297.5/376.0 MB 18.0 MB/s eta 0:00:05\n",
      "   ------------------------------- ------- 304.6/376.0 MB 18.3 MB/s eta 0:00:04\n",
      "   -------------------------------- ------ 310.9/376.0 MB 18.5 MB/s eta 0:00:04\n",
      "   -------------------------------- ------ 316.4/376.0 MB 19.0 MB/s eta 0:00:04\n",
      "   --------------------------------- ----- 320.9/376.0 MB 19.4 MB/s eta 0:00:03\n",
      "   --------------------------------- ----- 325.8/376.0 MB 19.8 MB/s eta 0:00:03\n",
      "   ---------------------------------- ---- 333.2/376.0 MB 20.1 MB/s eta 0:00:03\n",
      "   ----------------------------------- --- 340.3/376.0 MB 20.6 MB/s eta 0:00:02\n",
      "   ----------------------------------- --- 346.8/376.0 MB 20.8 MB/s eta 0:00:02\n",
      "   ------------------------------------ -- 351.0/376.0 MB 20.8 MB/s eta 0:00:02\n",
      "   ------------------------------------ -- 354.7/376.0 MB 20.8 MB/s eta 0:00:02\n",
      "   ------------------------------------- - 360.4/376.0 MB 21.1 MB/s eta 0:00:01\n",
      "   --------------------------------------  366.7/376.0 MB 21.4 MB/s eta 0:00:01\n",
      "   --------------------------------------  371.7/376.0 MB 21.5 MB/s eta 0:00:01\n",
      "   --------------------------------------  375.9/376.0 MB 21.6 MB/s eta 0:00:01\n",
      "   --------------------------------------  375.9/376.0 MB 21.6 MB/s eta 0:00:01\n",
      "   --------------------------------------- 376.0/376.0 MB 20.8 MB/s eta 0:00:00\n",
      "Downloading absl_py-2.2.1-py3-none-any.whl (277 kB)\n",
      "Using cached astunparse-1.6.3-py2.py3-none-any.whl (12 kB)\n",
      "Downloading flatbuffers-25.2.10-py2.py3-none-any.whl (30 kB)\n",
      "Downloading gast-0.6.0-py3-none-any.whl (21 kB)\n",
      "Using cached google_pasta-0.2.0-py3-none-any.whl (57 kB)\n",
      "Downloading grpcio-1.71.0-cp312-cp312-win_amd64.whl (4.3 MB)\n",
      "   ---------------------------------------- 0.0/4.3 MB ? eta -:--:--\n",
      "   ---------------------------------------- 4.3/4.3 MB 28.4 MB/s eta 0:00:00\n",
      "Downloading h5py-3.13.0-cp312-cp312-win_amd64.whl (3.0 MB)\n",
      "   ---------------------------------------- 0.0/3.0 MB ? eta -:--:--\n",
      "   ---------------------------------------- 3.0/3.0 MB 24.5 MB/s eta 0:00:00\n",
      "Downloading keras-3.9.1-py3-none-any.whl (1.3 MB)\n",
      "   ---------------------------------------- 0.0/1.3 MB ? eta -:--:--\n",
      "   ---------------------------------------- 1.3/1.3 MB 34.8 MB/s eta 0:00:00\n",
      "Using cached libclang-18.1.1-py2.py3-none-win_amd64.whl (26.4 MB)\n",
      "Downloading ml_dtypes-0.5.1-cp312-cp312-win_amd64.whl (210 kB)\n",
      "Downloading numpy-2.1.3-cp312-cp312-win_amd64.whl (12.6 MB)\n",
      "   ---------------------------------------- 0.0/12.6 MB ? eta -:--:--\n",
      "   ------------------- -------------------- 6.0/12.6 MB 30.8 MB/s eta 0:00:01\n",
      "   ------------------------------------ --- 11.5/12.6 MB 27.8 MB/s eta 0:00:01\n",
      "   ---------------------------------------- 12.6/12.6 MB 24.6 MB/s eta 0:00:00\n",
      "Using cached opt_einsum-3.4.0-py3-none-any.whl (71 kB)\n",
      "Downloading protobuf-5.29.4-cp310-abi3-win_amd64.whl (434 kB)\n",
      "Downloading tensorboard-2.19.0-py3-none-any.whl (5.5 MB)\n",
      "   ---------------------------------------- 0.0/5.5 MB ? eta -:--:--\n",
      "   ------------------------------------ --- 5.0/5.5 MB 25.1 MB/s eta 0:00:01\n",
      "   ---------------------------------------- 5.5/5.5 MB 23.9 MB/s eta 0:00:00\n",
      "Downloading termcolor-2.5.0-py3-none-any.whl (7.8 kB)\n",
      "Downloading wrapt-1.17.2-cp312-cp312-win_amd64.whl (38 kB)\n",
      "Using cached Markdown-3.7-py3-none-any.whl (106 kB)\n",
      "Using cached tensorboard_data_server-0.7.2-py3-none-any.whl (2.4 kB)\n",
      "Downloading werkzeug-3.1.3-py3-none-any.whl (224 kB)\n",
      "Downloading namex-0.0.8-py3-none-any.whl (5.8 kB)\n",
      "Downloading optree-0.14.1-cp312-cp312-win_amd64.whl (306 kB)\n",
      "Downloading rich-13.9.4-py3-none-any.whl (242 kB)\n",
      "Downloading markdown_it_py-3.0.0-py3-none-any.whl (87 kB)\n",
      "Downloading mdurl-0.1.2-py3-none-any.whl (10.0 kB)\n",
      "Installing collected packages: namex, libclang, flatbuffers, wrapt, werkzeug, termcolor, tensorboard-data-server, protobuf, optree, opt-einsum, numpy, mdurl, markdown, grpcio, google-pasta, gast, astunparse, absl-py, tensorboard, ml-dtypes, markdown-it-py, h5py, rich, keras, tensorflow\n",
      "  Attempting uninstall: numpy\n",
      "    Found existing installation: numpy 2.2.4\n",
      "    Uninstalling numpy-2.2.4:\n",
      "      Successfully uninstalled numpy-2.2.4\n",
      "Successfully installed absl-py-2.2.1 astunparse-1.6.3 flatbuffers-25.2.10 gast-0.6.0 google-pasta-0.2.0 grpcio-1.71.0 h5py-3.13.0 keras-3.9.1 libclang-18.1.1 markdown-3.7 markdown-it-py-3.0.0 mdurl-0.1.2 ml-dtypes-0.5.1 namex-0.0.8 numpy-2.1.3 opt-einsum-3.4.0 optree-0.14.1 protobuf-5.29.4 rich-13.9.4 tensorboard-2.19.0 tensorboard-data-server-0.7.2 tensorflow-2.19.0 termcolor-2.5.0 werkzeug-3.1.3 wrapt-1.17.2\n"
     ]
    },
    {
     "name": "stderr",
     "output_type": "stream",
     "text": [
      "  WARNING: Failed to remove contents in a temporary directory 'C:\\Users\\thinkbook14\\miniconda3\\Lib\\site-packages\\~umpy.libs'.\n",
      "  You can safely remove it manually.\n",
      "  WARNING: Failed to remove contents in a temporary directory 'C:\\Users\\thinkbook14\\miniconda3\\Lib\\site-packages\\~umpy'.\n",
      "  You can safely remove it manually.\n"
     ]
    }
   ],
   "execution_count": 9
  },
  {
   "metadata": {
    "ExecuteTime": {
     "end_time": "2025-03-27T21:33:39.810074Z",
     "start_time": "2025-03-27T21:33:28.372042Z"
    }
   },
   "cell_type": "code",
   "source": "!pip install --upgrade numpy\n",
   "id": "48633f7b5dedee3",
   "outputs": [
    {
     "name": "stdout",
     "output_type": "stream",
     "text": [
      "Requirement already satisfied: numpy in c:\\users\\thinkbook14\\miniconda3\\lib\\site-packages (2.1.3)\n",
      "Collecting numpy\n",
      "  Using cached numpy-2.2.4-cp312-cp312-win_amd64.whl.metadata (60 kB)\n",
      "Using cached numpy-2.2.4-cp312-cp312-win_amd64.whl (12.6 MB)\n",
      "Installing collected packages: numpy\n",
      "  Attempting uninstall: numpy\n",
      "    Found existing installation: numpy 2.1.3\n",
      "    Uninstalling numpy-2.1.3:\n",
      "      Successfully uninstalled numpy-2.1.3\n",
      "Successfully installed numpy-2.2.4\n"
     ]
    },
    {
     "name": "stderr",
     "output_type": "stream",
     "text": [
      "  WARNING: Failed to remove contents in a temporary directory 'C:\\Users\\thinkbook14\\miniconda3\\Lib\\site-packages\\~-mpy.libs'.\n",
      "  You can safely remove it manually.\n",
      "  WARNING: Failed to remove contents in a temporary directory 'C:\\Users\\thinkbook14\\miniconda3\\Lib\\site-packages\\~-mpy'.\n",
      "  You can safely remove it manually.\n",
      "ERROR: pip's dependency resolver does not currently take into account all the packages that are installed. This behaviour is the source of the following dependency conflicts.\n",
      "tensorflow 2.19.0 requires numpy<2.2.0,>=1.26.0, but you have numpy 2.2.4 which is incompatible.\n"
     ]
    }
   ],
   "execution_count": 11
  },
  {
   "metadata": {
    "ExecuteTime": {
     "end_time": "2025-03-27T21:33:49.275604Z",
     "start_time": "2025-03-27T21:33:46.918795Z"
    }
   },
   "cell_type": "code",
   "source": [
    "from tensorflow.keras.preprocessing.text import Tokenizer\n",
    "\n",
    "# Initialize the Tokenizer with a specified number of words (e.g., top 5000 most frequent words)\n",
    "tokenizer = Tokenizer(num_words=5000)\n",
    "\n",
    "# Fit the tokenizer on the cleaned review text\n",
    "tokenizer.fit_on_texts(review_df['cleaned_text'])\n",
    "\n",
    "# Convert the text to sequences of integers\n",
    "X = tokenizer.texts_to_sequences(review_df['cleaned_text'])"
   ],
   "id": "1fd7eac8722b9716",
   "outputs": [],
   "execution_count": 12
  },
  {
   "metadata": {},
   "cell_type": "markdown",
   "source": [
    "### 4. Padding\n",
    "After tokenization, the sequences (lists of integers) may have varying lengths. To ensure that all input sequences are the same length, we will pad them to a fixed length using Keras' `pad_sequences` function. Padding adds zeros at the beginning or end of the sequences to make them uniform in length, which is necessary for inputting them into a neural network.\n",
    "\n",
    "We will use the `maxlen` parameter to define the desired length of the sequences and the `padding` parameter to specify where to add the padding (either 'pre' or 'post').\n"
   ],
   "id": "239d3f68b70e107d"
  },
  {
   "metadata": {
    "ExecuteTime": {
     "end_time": "2025-03-27T21:34:49.251645Z",
     "start_time": "2025-03-27T21:34:49.072772Z"
    }
   },
   "cell_type": "code",
   "source": [
    "from tensorflow.keras.preprocessing.sequence import pad_sequences\n",
    "\n",
    "# Pad the sequences to ensure they are of equal length\n",
    "X = pad_sequences(X, padding='post', maxlen=100)  # Adjust maxlen as needed\n"
   ],
   "id": "6ae40cc3c1789b34",
   "outputs": [],
   "execution_count": 13
  },
  {
   "metadata": {
    "ExecuteTime": {
     "end_time": "2025-03-27T21:40:12.585454Z",
     "start_time": "2025-03-27T21:40:12.561588Z"
    }
   },
   "cell_type": "code",
   "source": [
    "from sklearn.model_selection import train_test_split\n",
    "# Get the sentiment labels\n",
    "y = review_df['sentiment'].values\n",
    "\n",
    "# Split the data into training and testing sets\n",
    "X_train, X_test, y_train, y_test = train_test_split(X, y, test_size=0.2, random_state=42)\n"
   ],
   "id": "70b42f80de558d10",
   "outputs": [],
   "execution_count": 17
  },
  {
   "metadata": {},
   "cell_type": "markdown",
   "source": [
    "## Step 3. Build the Neural Network\n",
    "\n",
    "Now, let’s build a simple Neural Network using Keras. We’ll use an Embedding layer to convert text into vectors, and then an LSTM layer for sequence processing."
   ],
   "id": "421f3b55592aed56"
  },
  {
   "metadata": {
    "ExecuteTime": {
     "end_time": "2025-03-27T21:40:21.022067Z",
     "start_time": "2025-03-27T21:40:20.994902Z"
    }
   },
   "cell_type": "code",
   "source": [
    "from tensorflow.keras.models import Sequential\n",
    "from tensorflow.keras.layers import Dense, Embedding, LSTM, Dropout\n",
    "\n",
    "# Build the model\n",
    "model = Sequential()\n",
    "\n",
    "# Embedding layer for converting words into vectors\n",
    "model.add(Embedding(input_dim=5000, output_dim=128, input_length=100))\n",
    "\n",
    "# LSTM layer for handling sequence data\n",
    "model.add(LSTM(128, return_sequences=True))\n",
    "model.add(Dropout(0.2))  # Dropout for regularization\n",
    "\n",
    "# Adding another LSTM layer\n",
    "model.add(LSTM(64))\n",
    "\n",
    "# Dense output layer\n",
    "model.add(Dense(1, activation='sigmoid'))  # Sigmoid for binary classification\n",
    "\n",
    "# Compile the model\n",
    "model.compile(optimizer='adam', loss='binary_crossentropy', metrics=['accuracy'])\n",
    "\n",
    "# Model summary\n",
    "model.summary()\n"
   ],
   "id": "ae93babfeb1fea83",
   "outputs": [
    {
     "name": "stderr",
     "output_type": "stream",
     "text": [
      "C:\\Users\\thinkbook14\\miniconda3\\Lib\\site-packages\\keras\\src\\layers\\core\\embedding.py:90: UserWarning: Argument `input_length` is deprecated. Just remove it.\n",
      "  warnings.warn(\n"
     ]
    },
    {
     "data": {
      "text/plain": [
       "\u001B[1mModel: \"sequential_1\"\u001B[0m\n"
      ],
      "text/html": [
       "<pre style=\"white-space:pre;overflow-x:auto;line-height:normal;font-family:Menlo,'DejaVu Sans Mono',consolas,'Courier New',monospace\"><span style=\"font-weight: bold\">Model: \"sequential_1\"</span>\n",
       "</pre>\n"
      ]
     },
     "metadata": {},
     "output_type": "display_data"
    },
    {
     "data": {
      "text/plain": [
       "┏━━━━━━━━━━━━━━━━━━━━━━━━━━━━━━━━━┳━━━━━━━━━━━━━━━━━━━━━━━━┳━━━━━━━━━━━━━━━┓\n",
       "┃\u001B[1m \u001B[0m\u001B[1mLayer (type)                   \u001B[0m\u001B[1m \u001B[0m┃\u001B[1m \u001B[0m\u001B[1mOutput Shape          \u001B[0m\u001B[1m \u001B[0m┃\u001B[1m \u001B[0m\u001B[1m      Param #\u001B[0m\u001B[1m \u001B[0m┃\n",
       "┡━━━━━━━━━━━━━━━━━━━━━━━━━━━━━━━━━╇━━━━━━━━━━━━━━━━━━━━━━━━╇━━━━━━━━━━━━━━━┩\n",
       "│ embedding_1 (\u001B[38;5;33mEmbedding\u001B[0m)         │ ?                      │   \u001B[38;5;34m0\u001B[0m (unbuilt) │\n",
       "├─────────────────────────────────┼────────────────────────┼───────────────┤\n",
       "│ lstm_2 (\u001B[38;5;33mLSTM\u001B[0m)                   │ ?                      │   \u001B[38;5;34m0\u001B[0m (unbuilt) │\n",
       "├─────────────────────────────────┼────────────────────────┼───────────────┤\n",
       "│ dropout_1 (\u001B[38;5;33mDropout\u001B[0m)             │ ?                      │             \u001B[38;5;34m0\u001B[0m │\n",
       "├─────────────────────────────────┼────────────────────────┼───────────────┤\n",
       "│ lstm_3 (\u001B[38;5;33mLSTM\u001B[0m)                   │ ?                      │   \u001B[38;5;34m0\u001B[0m (unbuilt) │\n",
       "├─────────────────────────────────┼────────────────────────┼───────────────┤\n",
       "│ dense_1 (\u001B[38;5;33mDense\u001B[0m)                 │ ?                      │   \u001B[38;5;34m0\u001B[0m (unbuilt) │\n",
       "└─────────────────────────────────┴────────────────────────┴───────────────┘\n"
      ],
      "text/html": [
       "<pre style=\"white-space:pre;overflow-x:auto;line-height:normal;font-family:Menlo,'DejaVu Sans Mono',consolas,'Courier New',monospace\">┏━━━━━━━━━━━━━━━━━━━━━━━━━━━━━━━━━┳━━━━━━━━━━━━━━━━━━━━━━━━┳━━━━━━━━━━━━━━━┓\n",
       "┃<span style=\"font-weight: bold\"> Layer (type)                    </span>┃<span style=\"font-weight: bold\"> Output Shape           </span>┃<span style=\"font-weight: bold\">       Param # </span>┃\n",
       "┡━━━━━━━━━━━━━━━━━━━━━━━━━━━━━━━━━╇━━━━━━━━━━━━━━━━━━━━━━━━╇━━━━━━━━━━━━━━━┩\n",
       "│ embedding_1 (<span style=\"color: #0087ff; text-decoration-color: #0087ff\">Embedding</span>)         │ ?                      │   <span style=\"color: #00af00; text-decoration-color: #00af00\">0</span> (unbuilt) │\n",
       "├─────────────────────────────────┼────────────────────────┼───────────────┤\n",
       "│ lstm_2 (<span style=\"color: #0087ff; text-decoration-color: #0087ff\">LSTM</span>)                   │ ?                      │   <span style=\"color: #00af00; text-decoration-color: #00af00\">0</span> (unbuilt) │\n",
       "├─────────────────────────────────┼────────────────────────┼───────────────┤\n",
       "│ dropout_1 (<span style=\"color: #0087ff; text-decoration-color: #0087ff\">Dropout</span>)             │ ?                      │             <span style=\"color: #00af00; text-decoration-color: #00af00\">0</span> │\n",
       "├─────────────────────────────────┼────────────────────────┼───────────────┤\n",
       "│ lstm_3 (<span style=\"color: #0087ff; text-decoration-color: #0087ff\">LSTM</span>)                   │ ?                      │   <span style=\"color: #00af00; text-decoration-color: #00af00\">0</span> (unbuilt) │\n",
       "├─────────────────────────────────┼────────────────────────┼───────────────┤\n",
       "│ dense_1 (<span style=\"color: #0087ff; text-decoration-color: #0087ff\">Dense</span>)                 │ ?                      │   <span style=\"color: #00af00; text-decoration-color: #00af00\">0</span> (unbuilt) │\n",
       "└─────────────────────────────────┴────────────────────────┴───────────────┘\n",
       "</pre>\n"
      ]
     },
     "metadata": {},
     "output_type": "display_data"
    },
    {
     "data": {
      "text/plain": [
       "\u001B[1m Total params: \u001B[0m\u001B[38;5;34m0\u001B[0m (0.00 B)\n"
      ],
      "text/html": [
       "<pre style=\"white-space:pre;overflow-x:auto;line-height:normal;font-family:Menlo,'DejaVu Sans Mono',consolas,'Courier New',monospace\"><span style=\"font-weight: bold\"> Total params: </span><span style=\"color: #00af00; text-decoration-color: #00af00\">0</span> (0.00 B)\n",
       "</pre>\n"
      ]
     },
     "metadata": {},
     "output_type": "display_data"
    },
    {
     "data": {
      "text/plain": [
       "\u001B[1m Trainable params: \u001B[0m\u001B[38;5;34m0\u001B[0m (0.00 B)\n"
      ],
      "text/html": [
       "<pre style=\"white-space:pre;overflow-x:auto;line-height:normal;font-family:Menlo,'DejaVu Sans Mono',consolas,'Courier New',monospace\"><span style=\"font-weight: bold\"> Trainable params: </span><span style=\"color: #00af00; text-decoration-color: #00af00\">0</span> (0.00 B)\n",
       "</pre>\n"
      ]
     },
     "metadata": {},
     "output_type": "display_data"
    },
    {
     "data": {
      "text/plain": [
       "\u001B[1m Non-trainable params: \u001B[0m\u001B[38;5;34m0\u001B[0m (0.00 B)\n"
      ],
      "text/html": [
       "<pre style=\"white-space:pre;overflow-x:auto;line-height:normal;font-family:Menlo,'DejaVu Sans Mono',consolas,'Courier New',monospace\"><span style=\"font-weight: bold\"> Non-trainable params: </span><span style=\"color: #00af00; text-decoration-color: #00af00\">0</span> (0.00 B)\n",
       "</pre>\n"
      ]
     },
     "metadata": {},
     "output_type": "display_data"
    }
   ],
   "execution_count": 18
  },
  {
   "metadata": {},
   "cell_type": "markdown",
   "source": [
    "## Step 4. Train the Neural Network\n",
    "\n",
    "We can now train the model using the training data."
   ],
   "id": "1272f909343cefdf"
  },
  {
   "metadata": {
    "ExecuteTime": {
     "end_time": "2025-03-27T21:41:27.113732Z",
     "start_time": "2025-03-27T21:40:32.623140Z"
    }
   },
   "cell_type": "code",
   "source": [
    "# Train the model\n",
    "history = model.fit(X_train, y_train, epochs=5, batch_size=64, validation_data=(X_test, y_test))\n"
   ],
   "id": "d3eedd434d317416",
   "outputs": [
    {
     "name": "stdout",
     "output_type": "stream",
     "text": [
      "Epoch 1/5\n",
      "\u001B[1m125/125\u001B[0m \u001B[32m━━━━━━━━━━━━━━━━━━━━\u001B[0m\u001B[37m\u001B[0m \u001B[1m10s\u001B[0m 70ms/step - accuracy: 0.6959 - loss: 0.6053 - val_accuracy: 0.7415 - val_loss: 0.5635\n",
      "Epoch 2/5\n",
      "\u001B[1m125/125\u001B[0m \u001B[32m━━━━━━━━━━━━━━━━━━━━\u001B[0m\u001B[37m\u001B[0m \u001B[1m10s\u001B[0m 83ms/step - accuracy: 0.7266 - loss: 0.5639 - val_accuracy: 0.7630 - val_loss: 0.5391\n",
      "Epoch 3/5\n",
      "\u001B[1m125/125\u001B[0m \u001B[32m━━━━━━━━━━━━━━━━━━━━\u001B[0m\u001B[37m\u001B[0m \u001B[1m12s\u001B[0m 100ms/step - accuracy: 0.8009 - loss: 0.4683 - val_accuracy: 0.7590 - val_loss: 0.4575\n",
      "Epoch 4/5\n",
      "\u001B[1m125/125\u001B[0m \u001B[32m━━━━━━━━━━━━━━━━━━━━\u001B[0m\u001B[37m\u001B[0m \u001B[1m10s\u001B[0m 84ms/step - accuracy: 0.7990 - loss: 0.4810 - val_accuracy: 0.7725 - val_loss: 0.5380\n",
      "Epoch 5/5\n",
      "\u001B[1m125/125\u001B[0m \u001B[32m━━━━━━━━━━━━━━━━━━━━\u001B[0m\u001B[37m\u001B[0m \u001B[1m11s\u001B[0m 85ms/step - accuracy: 0.7959 - loss: 0.4818 - val_accuracy: 0.7975 - val_loss: 0.4947\n"
     ]
    }
   ],
   "execution_count": 19
  },
  {
   "metadata": {},
   "cell_type": "markdown",
   "source": [
    "## Step 5. Evaluate the Model\n",
    "\n",
    "After training, we’ll evaluate the model on the test set to check its performance.\n",
    "\n"
   ],
   "id": "16aff0a95154ae28"
  },
  {
   "metadata": {
    "ExecuteTime": {
     "end_time": "2025-03-27T21:42:04.975250Z",
     "start_time": "2025-03-27T21:42:03.920959Z"
    }
   },
   "cell_type": "code",
   "source": [
    "# Evaluate the model on the test data\n",
    "loss, accuracy = model.evaluate(X_test, y_test)\n",
    "print(f\"Test Accuracy: {accuracy * 100:.2f}%\")\n"
   ],
   "id": "1a76b07e0a41674c",
   "outputs": [
    {
     "name": "stdout",
     "output_type": "stream",
     "text": [
      "\u001B[1m63/63\u001B[0m \u001B[32m━━━━━━━━━━━━━━━━━━━━\u001B[0m\u001B[37m\u001B[0m \u001B[1m1s\u001B[0m 16ms/step - accuracy: 0.8086 - loss: 0.4873\n",
      "Test Accuracy: 79.75%\n"
     ]
    }
   ],
   "execution_count": 20
  },
  {
   "metadata": {},
   "cell_type": "markdown",
   "source": [
    "## Step 6. Visualize the Training Process\n",
    "\n",
    "It’s often useful to visualize the training and validation loss/accuracy over epochs to understand the model’s performance.\n",
    "\n"
   ],
   "id": "a8eafdfcedd6f3fd"
  },
  {
   "metadata": {
    "ExecuteTime": {
     "end_time": "2025-03-27T21:42:43.150920Z",
     "start_time": "2025-03-27T21:42:42.949955Z"
    }
   },
   "cell_type": "code",
   "source": [
    "import matplotlib.pyplot as plt\n",
    "\n",
    "# Plot training & validation accuracy values\n",
    "plt.plot(history.history['accuracy'])\n",
    "plt.plot(history.history['val_accuracy'])\n",
    "plt.title('Model Accuracy')\n",
    "plt.xlabel('Epochs')\n",
    "plt.ylabel('Accuracy')\n",
    "plt.legend(['Train', 'Test'], loc='upper left')\n",
    "plt.show()\n",
    "\n",
    "# Plot training & validation loss values\n",
    "plt.plot(history.history['loss'])\n",
    "plt.plot(history.history['val_loss'])\n",
    "plt.title('Model Loss')\n",
    "plt.xlabel('Epochs')\n",
    "plt.ylabel('Loss')\n",
    "plt.legend(['Train', 'Test'], loc='upper left')\n",
    "plt.show()\n"
   ],
   "id": "ba55d1202c0b9158",
   "outputs": [
    {
     "data": {
      "text/plain": [
       "<Figure size 640x480 with 1 Axes>"
      ],
      "image/png": "[encoded data removed]"
     },
     "metadata": {},
     "output_type": "display_data"
    },
    {
     "data": {
      "text/plain": [
       "<Figure size 640x480 with 1 Axes>"
      ],
      "image/png": "[encoded data removed]"
     },
     "metadata": {},
     "output_type": "display_data"
    }
   ],
   "execution_count": 21
  },
  {
   "metadata": {},
   "cell_type": "markdown",
   "source": [
    "## Step 7. Making Predictions\n",
    "\n",
    "Once the model is trained, you can use it to make predictions on new reviews. Here's how to predict the sentiment of a single review."
   ],
   "id": "f8331818a6efda12"
  },
  {
   "metadata": {
    "ExecuteTime": {
     "end_time": "2025-03-27T21:43:25.168942Z",
     "start_time": "2025-03-27T21:43:24.974718Z"
    }
   },
   "cell_type": "code",
   "source": [
    "# Example review\n",
    "sample_review = [\"The food was fantastic and the service was great!\"]\n",
    "sample_review = tokenizer.texts_to_sequences(sample_review)\n",
    "sample_review = pad_sequences(sample_review, maxlen=100, padding='post')\n",
    "\n",
    "# Predict sentiment\n",
    "prediction = model.predict(sample_review)\n",
    "print(\"Positive Review\" if prediction[0] > 0.5 else \"Negative Review\")\n"
   ],
   "id": "454d4b0506913f5f",
   "outputs": [
    {
     "name": "stdout",
     "output_type": "stream",
     "text": [
      "\u001B[1m1/1\u001B[0m \u001B[32m━━━━━━━━━━━━━━━━━━━━\u001B[0m\u001B[37m\u001B[0m \u001B[1m0s\u001B[0m 157ms/step\n",
      "Positive Review\n"
     ]
    }
   ],
   "execution_count": 22
  },
  {
   "metadata": {},
   "cell_type": "markdown",
   "source": [
    "## Conclusion\n",
    "\n",
    "In this project, we successfully built a neural network model to analyze Yelp review data and predict sentiment based on user reviews. We started by loading a portion of the Yelp dataset, followed by preprocessing steps such as text cleaning, tokenization, and padding to ensure all review texts were standardized for input into the model.\n",
    "\n",
    "We then used a neural network architecture to classify reviews into positive or negative sentiment, based on the ratings provided. Throughout the process, we handled challenges related to large data sizes, performance optimization, and ensuring the model could process text data effectively.\n",
    "\n",
    "By splitting the data into training and testing sets, we trained the model, monitored its performance during validation, and obtained results that help us evaluate the model’s ability to predict sentiment from Yelp reviews.\n",
    "\n",
    "Future improvements could include experimenting with different neural network architectures, such as using pre-trained word embeddings or exploring more advanced text processing techniques, to further enhance the model's accuracy and robustness.\n"
   ],
   "id": "5a880d23c4f52380"
  },
  {
   "metadata": {},
   "cell_type": "code",
   "outputs": [],
   "execution_count": null,
   "source": "",
   "id": "87d7de914a2f3449"
  }
 ],
 "metadata": {
  "kernelspec": {
   "display_name": "Python 3",
   "language": "python",
   "name": "python3"
  },
  "language_info": {
   "codemirror_mode": {
    "name": "ipython",
    "version": 2
   },
   "file_extension": ".py",
   "mimetype": "text/x-python",
   "name": "python",
   "nbconvert_exporter": "python",
   "pygments_lexer": "ipython2",
   "version": "2.7.6"
  }
 },
 "nbformat": 4,
 "nbformat_minor": 5
}
