{
 "cells": [
  {
   "metadata": {},
   "cell_type": "markdown",
   "source": "<center><h1>Logistic Regression</h1></center>",
   "id": "3c70d133066d92aa"
  },
  {
   "metadata": {},
   "cell_type": "markdown",
   "source": "# 1. Introduction",
   "id": "d859f32b0fbb2f37"
  },
  {
   "metadata": {},
   "cell_type": "markdown",
   "source": [
    "Logistic Regression is a widely used **supervised learning** algorithm for **binary classification** tasks. Unlike **Linear Regression**, which predicts continuous values, Logistic Regression is used to estimate the **probability** that a given input belongs to a particular class.\n",
    "\n",
    "The output is a probability value between **0 and 1**, which is then converted into class labels based on a threshold (typically **0.5**).\n"
   ],
   "id": "565e3b6e6797fcba"
  },
  {
   "metadata": {},
   "cell_type": "markdown",
   "source": "![Logistic Regression](LogisticRegression.webp)",
   "id": "42e272d1ec59fd57"
  },
  {
   "metadata": {},
   "cell_type": "markdown",
   "source": "# 2. How Does Logistic Regression Work?",
   "id": "6490dd240a3cf91f"
  },
  {
   "metadata": {},
   "cell_type": "markdown",
   "source": [
    "## 1. Mathematical Formulation\n",
    "\n",
    "Logistic Regression is a classification algorithm that models the probability that a given input belongs to a particular class. It does this by applying the **sigmoid function (logistic function)** to a linear combination of the input features.\n",
    "\n",
    "The model takes the form:\n",
    "\n",
    "$$\n",
    "P(Y=1 | X) = \\frac{1}{1 + e^{-(\\beta_0 + \\beta_1 X_1 + \\beta_2 X_2 + ... + \\beta_n X_n)}}\n",
    "$$\n",
    "\n",
    "where:\n",
    "- $ P(Y=1 | X) $ is the probability that the input belongs to class **1**.\n",
    "- $ \\beta_0 $ is the **intercept** (bias term).\n",
    "- $ \\beta_1, \\beta_2, ..., \\beta_n $ are the **coefficients** (weights) for the input features.\n",
    "- $ X_1, X_2, ..., X_n $ are the **independent variables** (features).\n",
    "- The **sigmoid function** ensures that the output is always between 0 and 1.\n",
    "\n",
    "The decision rule for classification is:\n",
    "\n",
    "$$\n",
    "\\hat{Y} =\n",
    "\\begin{cases}\n",
    "1, & \\text{if } P(Y=1 | X) \\geq 0.5 \\\\\n",
    "0, & \\text{if } P(Y=1 | X) < 0.5\n",
    "\\end{cases}\n",
    "$$\n",
    "\n",
    "## 2. Cost Function and Optimization\n",
    "\n",
    "To train the model, we need to find the best parameters $ \\beta $ that minimize the error. Instead of using Mean Squared Error (as in Linear Regression), Logistic Regression uses the **log loss (binary cross-entropy)** cost function:\n",
    "\n",
    "$$\n",
    "J(\\beta) = - \\frac{1}{m} \\sum_{i=1}^{m} \\left[ y_i \\log(\\hat{y}_i) + (1 - y_i) \\log(1 - \\hat{y}_i) \\right]\n",
    "$$\n",
    "\n",
    "where:\n",
    "- $ m $ is the **number of training samples**.\n",
    "- $ y_i $ is the **actual class label** (0 or 1).\n",
    "- $ \\hat{y}_i $ is the **predicted probability** from the logistic function.\n",
    "\n",
    "To minimize this cost function, we typically use **Gradient Descent**, which updates the model parameters iteratively:\n",
    "\n",
    "$$\n",
    "\\beta_j := \\beta_j - \\alpha \\frac{\\partial J}{\\partial \\beta_j}\n",
    "$$\n",
    "\n",
    "where $ \\alpha $ is the **learning rate**, which controls how much the weights are updated in each step.\n",
    "\n",
    "## 3. Regularization\n",
    "\n",
    "To prevent overfitting, Logistic Regression often includes **L1 (Lasso) or L2 (Ridge) regularization**:\n",
    "- **L1 Regularization (Lasso)** adds a penalty term $ \\lambda \\sum |\\beta_j| $, which encourages sparsity (some coefficients become zero).\n",
    "- **L2 Regularization (Ridge)** adds a penalty term $ \\lambda \\sum \\beta_j^2 $, which discourages large coefficients.\n",
    "\n",
    "Regularization helps improve the generalization of the model to unseen data.\n",
    "\n",
    "---\n"
   ],
   "id": "40000e21c2f038ba"
  },
  {
   "metadata": {},
   "cell_type": "markdown",
   "source": "# 3. About the Social Network Ads Dataset",
   "id": "4b13500f23c4bd2f"
  },
  {
   "metadata": {},
   "cell_type": "markdown",
   "source": [
    "## Description:\n",
    "This dataset is designed for analyzing the behavior of users interacting with an online social network, with the goal of predicting whether a user will purchase a product based on features like gender, age, and estimated salary. The dataset consists of multiple user records with various attributes, and the target variable indicates whether the user made a purchase.\n",
    "\n",
    "## Variables:\n",
    "1. **User ID**: A unique identifier for each user.\n",
    "2. **Gender**: The gender of the user, which can be either 'Male' or 'Female'.\n",
    "3. **Age**: The age of the user, which is a continuous variable.\n",
    "4. **EstimatedSalary**: The estimated annual salary of the user, which is a continuous variable.\n",
    "\n",
    "## Target Variable:\n",
    "- **Purchased**: A binary target variable indicating whether the user made a purchase (1 = Yes, 0 = No).\n",
    "\n",
    "## Objective:\n",
    "The objective of this dataset is to use the features (Gender, Age, EstimatedSalary) to predict the target variable \"Purchased.\" Specifically, the goal is to build a model that predicts whether a user will purchase a product based on their personal information and interactions with the social network.\n",
    "\n",
    "---\n"
   ],
   "id": "b9ffc99952be4244"
  },
  {
   "metadata": {},
   "cell_type": "markdown",
   "source": "# 4. Steps to Apply Logistic Regression Algorithm to Social Network Ads Dataset",
   "id": "b6e98e58c2f33ecb"
  },
  {
   "metadata": {},
   "cell_type": "markdown",
   "source": [
    "## 1. Data Loading and Exploration\n",
    "   - **Objective**: Load the dataset and explore its structure.\n",
    "   - Steps:\n",
    "     - Import necessary libraries (e.g., pandas, numpy).\n",
    "     - Load the dataset using pandas.\n",
    "     - Display the first few rows to get an overview of the data.\n",
    "     - Check for missing values and handle them appropriately.\n",
    "     - Explore the data types of each column and make necessary conversions."
   ],
   "id": "6a32dc96deacb098"
  },
  {
   "metadata": {
    "ExecuteTime": {
     "end_time": "2025-03-19T05:25:41.332534Z",
     "start_time": "2025-03-19T05:25:40.913093Z"
    }
   },
   "cell_type": "code",
   "source": [
    "# Step 1: Import necessary libraries\n",
    "import pandas as pd\n",
    "import numpy as np\n",
    "\n",
    "# Step 2: Load the dataset using pandas\n",
    "df = pd.read_csv('Social_Network_Ads.csv')\n",
    "\n",
    "# Step 3: Display the first few rows to get an overview of the data\n",
    "print(\"First few rows of the dataset:\")\n",
    "print(df.head())\n",
    "\n",
    "# Step 4: Check for missing values\n",
    "print(\"\\nMissing values in each column:\")\n",
    "print(df.isnull().sum())\n",
    "\n",
    "# Step 5: Explore the data types of each column\n",
    "print(\"\\nData types of each column:\")\n",
    "print(df.dtypes)\n",
    "\n",
    "# Step 6: Convert 'Gender' column to numerical values (e.g., Male = 0, Female = 1)\n",
    "df['Gender'] = df['Gender'].map({'Male': 0, 'Female': 1})\n",
    "\n",
    "# Display the updated dataset\n",
    "print(\"\\nUpdated dataset after converting 'Gender' column:\")\n",
    "print(df.head())\n"
   ],
   "id": "75ab27141911e77b",
   "outputs": [
    {
     "name": "stdout",
     "output_type": "stream",
     "text": [
      "First few rows of the dataset:\n",
      "    User ID  Gender  Age  EstimatedSalary  Purchased\n",
      "0  15624510    Male   19            19000          0\n",
      "1  15810944    Male   35            20000          0\n",
      "2  15668575  Female   26            43000          0\n",
      "3  15603246  Female   27            57000          0\n",
      "4  15804002    Male   19            76000          0\n",
      "\n",
      "Missing values in each column:\n",
      "User ID            0\n",
      "Gender             0\n",
      "Age                0\n",
      "EstimatedSalary    0\n",
      "Purchased          0\n",
      "dtype: int64\n",
      "\n",
      "Data types of each column:\n",
      "User ID             int64\n",
      "Gender             object\n",
      "Age                 int64\n",
      "EstimatedSalary     int64\n",
      "Purchased           int64\n",
      "dtype: object\n",
      "\n",
      "Updated dataset after converting 'Gender' column:\n",
      "    User ID  Gender  Age  EstimatedSalary  Purchased\n",
      "0  15624510       0   19            19000          0\n",
      "1  15810944       0   35            20000          0\n",
      "2  15668575       1   26            43000          0\n",
      "3  15603246       1   27            57000          0\n",
      "4  15804002       0   19            76000          0\n"
     ]
    }
   ],
   "execution_count": 2
  },
  {
   "metadata": {},
   "cell_type": "markdown",
   "source": [
    "## 2. Data Preprocessing\n",
    "   - **Objective**: Clean the data and prepare it for model training.\n",
    "   - Steps:\n",
    "     - Convert categorical columns (like \"Gender\") into numerical values using encoding techniques (e.g., one-hot encoding or label encoding).\n",
    "     - Feature scaling: Normalize or standardize the features (Age, EstimatedSalary) if necessary.\n",
    "     - Split the data into features (X) and target (y) variables.\n",
    "     - Split the dataset into training and test sets (e.g., 80% training, 20% test).\n"
   ],
   "id": "236ffb503334842d"
  },
  {
   "metadata": {
    "ExecuteTime": {
     "end_time": "2025-03-19T05:26:38.913782Z",
     "start_time": "2025-03-19T05:26:36.537108Z"
    }
   },
   "cell_type": "code",
   "source": [
    "# Step 1: Convert categorical columns (like \"Gender\") into numerical values using label encoding\n",
    "# We have already done label encoding for the \"Gender\" column in the previous step.\n",
    "# If you wanted to use One-Hot Encoding, you could do it like this:\n",
    "# df = pd.get_dummies(df, columns=['Gender'], drop_first=True)\n",
    "\n",
    "# Step 2: Feature scaling: Normalize or standardize the features (Age, EstimatedSalary)\n",
    "from sklearn.preprocessing import StandardScaler\n",
    "\n",
    "# Initialize the StandardScaler\n",
    "scaler = StandardScaler()\n",
    "\n",
    "# Selecting the features (Age and EstimatedSalary) for scaling\n",
    "df[['Age', 'EstimatedSalary']] = scaler.fit_transform(df[['Age', 'EstimatedSalary']])\n",
    "\n",
    "# Step 3: Split the data into features (X) and target (y) variables\n",
    "X = df[['Gender', 'Age', 'EstimatedSalary']]  # Features (Gender, Age, EstimatedSalary)\n",
    "y = df['Purchased']  # Target variable (Purchased)\n",
    "\n",
    "# Step 4: Split the dataset into training and test sets (e.g., 80% training, 20% test)\n",
    "from sklearn.model_selection import train_test_split\n",
    "\n",
    "# Split the data: 80% for training and 20% for testing\n",
    "X_train, X_test, y_train, y_test = train_test_split(X, y, test_size=0.2, random_state=42)\n",
    "\n",
    "# Display the shapes of the training and test sets to confirm\n",
    "print(\"\\nTraining and test set shapes:\")\n",
    "print(f\"X_train shape: {X_train.shape}\")\n",
    "print(f\"X_test shape: {X_test.shape}\")\n",
    "print(f\"y_train shape: {y_train.shape}\")\n",
    "print(f\"y_test shape: {y_test.shape}\")\n"
   ],
   "id": "362af28fd5d737e7",
   "outputs": [
    {
     "name": "stdout",
     "output_type": "stream",
     "text": [
      "\n",
      "Training and test set shapes:\n",
      "X_train shape: (320, 3)\n",
      "X_test shape: (80, 3)\n",
      "y_train shape: (320,)\n",
      "y_test shape: (80,)\n"
     ]
    }
   ],
   "execution_count": 3
  },
  {
   "metadata": {},
   "cell_type": "markdown",
   "source": [
    "## 3. Model Building\n",
    "   - **Objective**: Build the logistic regression model.\n",
    "   - Steps:\n",
    "     - Import the logistic regression model from a library (e.g., `LogisticRegression` from `sklearn`).\n",
    "     - Instantiate the model.\n",
    "     - Train the model using the training data.\n"
   ],
   "id": "5106586992d4e96d"
  },
  {
   "metadata": {
    "ExecuteTime": {
     "end_time": "2025-03-19T05:27:06.650251Z",
     "start_time": "2025-03-19T05:27:06.589640Z"
    }
   },
   "cell_type": "code",
   "source": [
    "# Step 1: Import the Logistic Regression model from sklearn\n",
    "from sklearn.linear_model import LogisticRegression\n",
    "\n",
    "# Step 2: Instantiate the Logistic Regression model\n",
    "model = LogisticRegression(random_state=42)\n",
    "\n",
    "# Step 3: Train the model using the training data\n",
    "model.fit(X_train, y_train)\n",
    "\n",
    "# Display the model's coefficients (optional) to see the learned weights\n",
    "print(\"\\nLogistic Regression Model Coefficients:\")\n",
    "print(model.coef_)\n"
   ],
   "id": "f38a7330955d1913",
   "outputs": [
    {
     "name": "stdout",
     "output_type": "stream",
     "text": [
      "\n",
      "Logistic Regression Model Coefficients:\n",
      "[[-0.25765533  2.03630433  1.13217564]]\n"
     ]
    }
   ],
   "execution_count": 4
  },
  {
   "metadata": {},
   "cell_type": "markdown",
   "source": [
    "## 4. Model Evaluation\n",
    "   - **Objective**: Evaluate the performance of the trained model.\n",
    "   - Steps:\n",
    "     - Use the trained model to make predictions on the test data.\n",
    "     - Calculate accuracy, precision, recall, F1-score, and confusion matrix to assess model performance.\n",
    "     - Visualize the results (e.g., plot confusion matrix or ROC curve).\n",
    "\n"
   ],
   "id": "ab98bc2da0645c4c"
  },
  {
   "metadata": {
    "ExecuteTime": {
     "end_time": "2025-03-19T05:28:23.978153Z",
     "start_time": "2025-03-19T05:28:21.874510Z"
    }
   },
   "cell_type": "code",
   "source": "!pip install seaborn\n",
   "id": "2f11538572eb863",
   "outputs": [
    {
     "name": "stdout",
     "output_type": "stream",
     "text": [
      "Collecting seaborn\n",
      "  Using cached seaborn-0.13.2-py3-none-any.whl.metadata (5.4 kB)\n",
      "Requirement already satisfied: numpy!=1.24.0,>=1.20 in c:\\users\\thinkbook14\\miniconda3\\lib\\site-packages (from seaborn) (2.2.4)\n",
      "Requirement already satisfied: pandas>=1.2 in c:\\users\\thinkbook14\\miniconda3\\lib\\site-packages (from seaborn) (2.2.3)\n",
      "Requirement already satisfied: matplotlib!=3.6.1,>=3.4 in c:\\users\\thinkbook14\\miniconda3\\lib\\site-packages (from seaborn) (3.10.1)\n",
      "Requirement already satisfied: contourpy>=1.0.1 in c:\\users\\thinkbook14\\miniconda3\\lib\\site-packages (from matplotlib!=3.6.1,>=3.4->seaborn) (1.3.1)\n",
      "Requirement already satisfied: cycler>=0.10 in c:\\users\\thinkbook14\\miniconda3\\lib\\site-packages (from matplotlib!=3.6.1,>=3.4->seaborn) (0.12.1)\n",
      "Requirement already satisfied: fonttools>=4.22.0 in c:\\users\\thinkbook14\\miniconda3\\lib\\site-packages (from matplotlib!=3.6.1,>=3.4->seaborn) (4.56.0)\n",
      "Requirement already satisfied: kiwisolver>=1.3.1 in c:\\users\\thinkbook14\\miniconda3\\lib\\site-packages (from matplotlib!=3.6.1,>=3.4->seaborn) (1.4.8)\n",
      "Requirement already satisfied: packaging>=20.0 in c:\\users\\thinkbook14\\miniconda3\\lib\\site-packages (from matplotlib!=3.6.1,>=3.4->seaborn) (24.1)\n",
      "Requirement already satisfied: pillow>=8 in c:\\users\\thinkbook14\\miniconda3\\lib\\site-packages (from matplotlib!=3.6.1,>=3.4->seaborn) (11.1.0)\n",
      "Requirement already satisfied: pyparsing>=2.3.1 in c:\\users\\thinkbook14\\miniconda3\\lib\\site-packages (from matplotlib!=3.6.1,>=3.4->seaborn) (3.2.1)\n",
      "Requirement already satisfied: python-dateutil>=2.7 in c:\\users\\thinkbook14\\miniconda3\\lib\\site-packages (from matplotlib!=3.6.1,>=3.4->seaborn) (2.9.0.post0)\n",
      "Requirement already satisfied: pytz>=2020.1 in c:\\users\\thinkbook14\\miniconda3\\lib\\site-packages (from pandas>=1.2->seaborn) (2025.1)\n",
      "Requirement already satisfied: tzdata>=2022.7 in c:\\users\\thinkbook14\\miniconda3\\lib\\site-packages (from pandas>=1.2->seaborn) (2025.1)\n",
      "Requirement already satisfied: six>=1.5 in c:\\users\\thinkbook14\\miniconda3\\lib\\site-packages (from python-dateutil>=2.7->matplotlib!=3.6.1,>=3.4->seaborn) (1.17.0)\n",
      "Using cached seaborn-0.13.2-py3-none-any.whl (294 kB)\n",
      "Installing collected packages: seaborn\n",
      "Successfully installed seaborn-0.13.2\n"
     ]
    }
   ],
   "execution_count": 6
  },
  {
   "metadata": {
    "ExecuteTime": {
     "end_time": "2025-03-19T05:30:00.311690Z",
     "start_time": "2025-03-19T05:30:00.159009Z"
    }
   },
   "cell_type": "code",
   "source": [
    "# Step 1: Import necessary libraries for evaluation\n",
    "from sklearn.metrics import accuracy_score, precision_score, recall_score, f1_score, confusion_matrix, RocCurveDisplay\n",
    "import matplotlib.pyplot as plt\n",
    "\n",
    "# Step 2: Use the trained model to make predictions on the test data\n",
    "y_pred = model.predict(X_test)\n",
    "y_prob = model.predict_proba(X_test)[:, 1]  # Probability of the positive class\n",
    "\n",
    "# Step 3: Calculate evaluation metrics\n",
    "accuracy = accuracy_score(y_test, y_pred)\n",
    "precision = precision_score(y_test, y_pred)\n",
    "recall = recall_score(y_test, y_pred)\n",
    "f1 = f1_score(y_test, y_pred)\n",
    "\n",
    "# Print the evaluation metrics\n",
    "print(\"\\nModel Evaluation Metrics:\")\n",
    "print(f\"Accuracy: {accuracy:.4f}\")\n",
    "print(f\"Precision: {precision:.4f}\")\n",
    "print(f\"Recall: {recall:.4f}\")\n",
    "print(f\"F1 Score: {f1:.4f}\")\n",
    "\n",
    "# Step 4: Generate the confusion matrix\n",
    "cm = confusion_matrix(y_test, y_pred)\n",
    "\n",
    "# Visualize the confusion matrix using matplotlib\n",
    "plt.figure(figsize=(6, 8))\n",
    "plt.imshow(cm, interpolation='nearest', cmap=plt.cm.Blues)\n",
    "plt.title(\"Confusion Matrix\")\n",
    "plt.colorbar()\n",
    "plt.xlabel(\"Predicted\")\n",
    "plt.ylabel(\"Actual\")\n",
    "plt.xticks([0, 1], [\"No Purchase\", \"Purchase\"])\n",
    "plt.yticks([0, 1], [\"No Purchase\", \"Purchase\"])\n",
    "\n",
    "# Annotate the matrix with the numbers\n",
    "thresh = cm.max() / 2\n",
    "for i in range(cm.shape[0]):\n",
    "    for j in range(cm.shape[1]):\n",
    "        plt.text(j, i, cm[i, j], horizontalalignment=\"center\",\n",
    "                 color=\"white\" if cm[i, j] > thresh else \"black\")\n",
    "\n",
    "plt.show()\n",
    "\n",
    "# Step 5: Plot the ROC curve using RocCurveDisplay\n",
    "RocCurveDisplay.from_estimator(model, X_test, y_test)\n",
    "plt.title(\"ROC Curve\")\n",
    "plt.show()\n"
   ],
   "id": "7ad6f5adaadc0f9",
   "outputs": [
    {
     "name": "stdout",
     "output_type": "stream",
     "text": [
      "\n",
      "Model Evaluation Metrics:\n",
      "Accuracy: 0.8875\n",
      "Precision: 0.9130\n",
      "Recall: 0.7500\n",
      "F1 Score: 0.8235\n"
     ]
    },
    {
     "data": {
      "text/plain": [
       "<Figure size 600x800 with 2 Axes>"
      ],
      "image/png": "[encoded data removed]"
     },
     "metadata": {},
     "output_type": "display_data"
    },
    {
     "data": {
      "text/plain": [
       "<Figure size 640x480 with 1 Axes>"
      ],
      "image/png": "[encoded data removed]"
     },
     "metadata": {},
     "output_type": "display_data"
    }
   ],
   "execution_count": 9
  },
  {
   "metadata": {},
   "cell_type": "markdown",
   "source": [
    "## 6. Results Interpretation\n",
    "   - **Objective**: Analyze the model's predictions and insights.\n",
    "   - Steps:\n",
    "     - Analyze the coefficients of the logistic regression model to understand the influence of each feature.\n",
    "     - Interpret the results in terms of business or practical use (e.g., which factors are most likely to predict a purchase).\n"
   ],
   "id": "cb6c87746c406c7a"
  },
  {
   "metadata": {},
   "cell_type": "markdown",
   "source": [
    "1. **Accuracy: 0.8875**\n",
    "   - This means that 88.75% of the model’s predictions were correct. Accuracy is a good overall indicator, but it may not be the best metric for imbalanced datasets (where one class is much more frequent than the other).\n",
    "\n",
    "2. **Precision: 0.9130**\n",
    "   - Precision measures how many of the predicted positive cases (purchases) were actually correct. A precision of 91.30% means that, when the model predicted a purchase, it was correct 91.3% of the time. High precision means fewer false positives.\n",
    "\n",
    "3. **Recall: 0.7500**\n",
    "   - Recall measures how many of the actual positive cases were correctly identified. A recall of 75.00% means that 75% of all the actual purchases were correctly identified by the model. High recall means fewer false negatives.\n",
    "\n",
    "4. **F1 Score: 0.8235**\n",
    "   - The F1 score is the harmonic mean of precision and recall. An F1 score of 82.35% indicates a balanced performance between precision and recall. It’s useful when one wants to balance both false positives and false negatives.\n",
    "\n",
    "### Summary:\n",
    "\n",
    "- The model has **high precision** (good at correctly identifying positive cases when it predicts them), but the **recall** is a bit lower, indicating that some actual purchases were missed.\n",
    "- The **F1 score** of 0.8235 shows a good overall balance between precision and recall, indicating decent performance for the binary classification task.\n",
    "\n",
    "In general, the model seems to perform well, but improving recall might be valuable if identifying more true positives (purchases) is important in the given business context.\n"
   ],
   "id": "f23110647fc8b2ac"
  },
  {
   "metadata": {},
   "cell_type": "code",
   "outputs": [],
   "execution_count": null,
   "source": "",
   "id": "b79833ecac02feb4"
  }
 ],
 "metadata": {
  "kernelspec": {
   "display_name": "Python 3",
   "language": "python",
   "name": "python3"
  },
  "language_info": {
   "codemirror_mode": {
    "name": "ipython",
    "version": 2
   },
   "file_extension": ".py",
   "mimetype": "text/x-python",
   "name": "python",
   "nbconvert_exporter": "python",
   "pygments_lexer": "ipython2",
   "version": "2.7.6"
  }
 },
 "nbformat": 4,
 "nbformat_minor": 5
}
