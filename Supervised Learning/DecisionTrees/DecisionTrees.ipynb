version https://git-lfs.github.com/spec/v1
oid sha256:92bf5acc7b86e3dc3cf268fbc626da703dda9c5732e81e7ebbbf409379adb1cd
size 850820
