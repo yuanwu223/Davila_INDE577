{
 "cells": [
  {
   "metadata": {},
   "cell_type": "markdown",
   "source": "<center><h1>XGBoost</h1></center>",
   "id": "4fb757ae05de87f9"
  },
  {
   "metadata": {},
   "cell_type": "markdown",
   "source": "# 1. Introduction",
   "id": "f00df34c893de4a0"
  },
  {
   "metadata": {},
   "cell_type": "markdown",
   "source": [
    "**XGBoost** (Extreme Gradient Boosting) is a powerful and efficient open-source implementation of the gradient boosting framework. It is designed for speed and performance, and often achieves superior results on structured/tabular data compared to other machine learning algorithms.\n",
    "\n",
    "Originally developed by Tianqi Chen, XGBoost builds an ensemble of decision trees in a sequential manner, where each new tree aims to correct the errors of the previous ones. This boosting approach helps improve model accuracy significantly.\n",
    "\n",
    "### Key Features of XGBoost:\n",
    "- Regularization to prevent overfitting\n",
    "- Parallel processing for faster training\n",
    "- Tree pruning to optimize model complexity\n",
    "- Built-in handling of missing values\n",
    "- High scalability for large datasets\n",
    "\n",
    "XGBoost has become a go-to tool for data scientists and has been widely used in machine learning competitions, especially on platforms like Kaggle.\n"
   ],
   "id": "4c9dc35821fb178a"
  },
  {
   "metadata": {},
   "cell_type": "markdown",
   "source": "![XGBoost](XGBoost.png)",
   "id": "e50380bb3967a51b"
  },
  {
   "metadata": {},
   "cell_type": "markdown",
   "source": "# 2. How Does XGBoost Work?",
   "id": "190659eff53d65fd"
  },
  {
   "metadata": {},
   "cell_type": "markdown",
   "source": [
    "**XGBoost** (Extreme Gradient Boosting) is a powerful and efficient implementation of the gradient boosting framework. It builds an ensemble of weak learners (usually decision trees) in a stage-wise manner, where each new tree is trained to correct the errors made by the existing ensemble.\n",
    "\n",
    "## 2.1 Gradient Boosting Overview\n",
    "\n",
    "Gradient boosting builds models sequentially, each trying to reduce the errors (residuals) of the combined model so far.\n",
    "\n",
    "### Steps:\n",
    "1. Start with an initial prediction (e.g., the average of the target values).\n",
    "2. Compute the gradient (error) for each instance.\n",
    "3. Fit a new decision tree to these gradients.\n",
    "4. Add the new tree to the model with a scaling factor (learning rate).\n",
    "5. Repeat steps 2–4 for several iterations.\n",
    "\n",
    "This process allows the model to focus on the examples that previous models got wrong.\n",
    "\n",
    "## 2.2 What Makes XGBoost Special?\n",
    "\n",
    "XGBoost extends basic gradient boosting with several key innovations:\n",
    "\n",
    "- **Regularization**: Adds $L1$ and $L2$ penalties to control overfitting.\n",
    "- **Second-order optimization**: Uses both first-order (gradient) and second-order (Hessian) derivatives of the loss function for better accuracy.\n",
    "- **Sparsity-aware**: Automatically handles missing values by learning the optimal split direction.\n",
    "- **Parallelization**: Supports parallel tree construction, making it faster.\n",
    "- **Pruning**: Uses a depth-first approach and prunes nodes that do not improve the objective.\n",
    "\n",
    "## 2.3 XGBoost’s Objective Function\n",
    "\n",
    "At each iteration, XGBoost aims to minimize the following regularized objective:\n",
    "\n",
    "$$\n",
    "\\text{Obj} = \\sum_{i=1}^{n} l(y_i, \\hat{y}_i^{(t)}) + \\sum_{k=1}^{t} \\Omega(f_k)\n",
    "$$\n",
    "\n",
    "Where:\n",
    "- $l(y_i, \\hat{y}_i^{(t)})$ is the loss function (e.g., squared error or logistic loss)\n",
    "- $\\hat{y}_i^{(t)}$ is the prediction at iteration $t$\n",
    "- $\\Omega(f_k)$ is the regularization term for the $k$-th tree\n",
    "\n",
    "The regularization term is defined as:\n",
    "\n",
    "$$\n",
    "\\Omega(f) = \\gamma T + \\frac{1}{2} \\lambda \\sum_j w_j^2\n",
    "$$\n",
    "\n",
    "Where:\n",
    "- $T$ is the number of leaves\n",
    "- $w_j$ is the weight of leaf $j$\n",
    "- $\\gamma$ and $\\lambda$ are regularization parameters\n",
    "\n",
    "## 2.4 Tree Building in XGBoost\n",
    "\n",
    "XGBoost builds trees by:\n",
    "- Evaluating all possible feature splits\n",
    "- Selecting the one with the highest **gain** in the objective\n",
    "- Continuing until a stopping criterion is met (e.g., max depth or min gain)\n",
    "\n",
    "The **gain** is calculated using both the gradient $g_i$ and the Hessian $h_i$:\n",
    "\n",
    "$$\n",
    "\\text{Gain} = \\frac{1}{2} \\left[ \\frac{G_L^2}{H_L + \\lambda} + \\frac{G_R^2}{H_R + \\lambda} - \\frac{(G_L + G_R)^2}{H_L + H_R + \\lambda} \\right] - \\gamma\n",
    "$$\n",
    "\n",
    "Where:\n",
    "- $G_L$, $H_L$: gradient and Hessian sums for the left child\n",
    "- $G_R$, $H_R$: gradient and Hessian sums for the right child\n",
    "- $\\lambda$, $\\gamma$: regularization terms\n",
    "\n",
    "---"
   ],
   "id": "666811df4158bdf5"
  },
  {
   "metadata": {},
   "cell_type": "markdown",
   "source": "# 3. About the New York City Airbnb Dataset",
   "id": "abea2015161c914"
  },
  {
   "metadata": {},
   "cell_type": "markdown",
   "source": [
    "### Context\n",
    "Since 2008, guests and hosts have used Airbnb to expand traveling possibilities and provide a more unique, personalized way of experiencing the world. This dataset describes the listing activity and metrics in New York City, NY for the year 2019.\n",
    "\n",
    "### Content\n",
    "This data file includes all the necessary information to learn more about hosts, geographical availability, and key metrics that enable us to make predictions and draw meaningful conclusions.\n",
    "\n",
    "### Acknowledgements\n",
    "This public dataset is part of Airbnb. The original source can be found on [this website](https://www.kaggle.com/datasets/dgomonov/new-york-city-airbnb-open-data).\n",
    "\n",
    "---\n"
   ],
   "id": "c1952538d9dd4087"
  },
  {
   "metadata": {},
   "cell_type": "markdown",
   "source": "# 4. Steps to Apply XGBoost Algorithm to Dataset",
   "id": "1c1b57ba57e6e97"
  },
  {
   "metadata": {},
   "cell_type": "markdown",
   "source": [
    "## 4.1. Data Loading and Exploration\n",
    "- Load the dataset into a pandas DataFrame.\n",
    "- Perform an initial exploration of the dataset: check for missing values, data types, and the first few records.\n",
    "- Visualize the distribution of key features like price, number of reviews, and room type.\n"
   ],
   "id": "b9d84813ed4bba9d"
  },
  {
   "metadata": {
    "ExecuteTime": {
     "end_time": "2025-04-30T07:03:24.774095Z",
     "start_time": "2025-04-30T07:03:24.097266Z"
    }
   },
   "cell_type": "code",
   "source": [
    "import pandas as pd\n",
    "import matplotlib.pyplot as plt\n",
    "import seaborn as sns\n",
    "\n",
    "file_path = 'AB_NYC_2019.csv'\n",
    "df = pd.read_csv(file_path)\n",
    "\n",
    "df.head()\n",
    "\n",
    "df.isnull().sum()\n",
    "\n",
    "df.dtypes\n",
    "\n",
    "df.describe()\n",
    "\n",
    "# Distribution of 'price'\n",
    "plt.figure(figsize=(10, 6))\n",
    "sns.histplot(df['price'], bins=50, kde=True)\n",
    "plt.title('Price Distribution')\n",
    "plt.xlabel('Price')\n",
    "plt.ylabel('Frequency')\n",
    "plt.show()\n",
    "\n",
    "# Distribution of 'number_of_reviews'\n",
    "plt.figure(figsize=(10, 6))\n",
    "sns.histplot(df['number_of_reviews'], bins=50, kde=True)\n",
    "plt.title('Number of Reviews Distribution')\n",
    "plt.xlabel('Number of Reviews')\n",
    "plt.ylabel('Frequency')\n",
    "plt.show()\n",
    "\n",
    "# Distribution of 'room_type' (categorical feature)\n",
    "plt.figure(figsize=(8, 6))\n",
    "sns.countplot(x='room_type', data=df)\n",
    "plt.title('Room Type Distribution')\n",
    "plt.xlabel('Room Type')\n",
    "plt.ylabel('Count')\n",
    "plt.show()"
   ],
   "id": "46981762d651acea",
   "outputs": [
    {
     "data": {
      "text/plain": [
       "<Figure size 1000x600 with 1 Axes>"
      ],
      "image/png": "[encoded data removed]"
     },
     "metadata": {},
     "output_type": "display_data"
    },
    {
     "data": {
      "text/plain": [
       "<Figure size 1000x600 with 1 Axes>"
      ],
      "image/png": "[encoded data removed]"
     },
     "metadata": {},
     "output_type": "display_data"
    },
    {
     "data": {
      "text/plain": [
       "<Figure size 800x600 with 1 Axes>"
      ],
      "image/png": "[encoded data removed]"
     },
     "metadata": {},
     "output_type": "display_data"
    }
   ],
   "execution_count": 38
  },
  {
   "metadata": {},
   "cell_type": "markdown",
   "source": [
    "## 4.2. Data Preprocessing\n",
    "- Handle missing values by filling, removing, or imputing data as needed.\n",
    "- Encode categorical features such as 'room_type', 'neighbourhood', and 'host_name' using techniques like one-hot encoding or label encoding.\n",
    "- Normalize or scale numerical features to improve model performance.\n",
    "- Split the dataset into training and testing sets for model evaluation.\n",
    "\n"
   ],
   "id": "e1ae491f238114d4"
  },
  {
   "metadata": {
    "ExecuteTime": {
     "end_time": "2025-04-30T07:03:27.131628Z",
     "start_time": "2025-04-30T07:03:27.059865Z"
    }
   },
   "cell_type": "code",
   "source": [
    "from sklearn.model_selection import train_test_split\n",
    "from sklearn.preprocessing import StandardScaler, LabelEncoder\n",
    "from sklearn.impute import SimpleImputer\n",
    "\n",
    "# 1. Handle Missing Values\n",
    "# Fill missing values for numerical columns with the median value\n",
    "num_imputer = SimpleImputer(strategy='median')\n",
    "df['reviews_per_month'] = num_imputer.fit_transform(df[['reviews_per_month']])\n",
    "\n",
    "# Fill missing values for categorical columns with the most frequent value\n",
    "cat_imputer = SimpleImputer(strategy='most_frequent')\n",
    "df['neighbourhood_group'] = cat_imputer.fit_transform(df[['neighbourhood_group']]).ravel()\n",
    "df['neighbourhood'] = cat_imputer.fit_transform(df[['neighbourhood']]).ravel()\n",
    "df['host_name'] = cat_imputer.fit_transform(df[['host_name']]).ravel()\n",
    "\n",
    "# 2. Encode Categorical Variables\n",
    "# One-hot encoding for 'room_type' and 'neighbourhood'\n",
    "df = pd.get_dummies(df, columns=['room_type', 'neighbourhood'], drop_first=True)\n",
    "\n",
    "# Label encoding for 'neighbourhood_group' (you can also use one-hot encoding if needed)\n",
    "label_encoder = LabelEncoder()\n",
    "df['neighbourhood_group'] = label_encoder.fit_transform(df['neighbourhood_group'])\n",
    "\n",
    "# 3. Convert 'last_review' (datetime) into number of days since last review\n",
    "df['last_review'] = pd.to_datetime(df['last_review'], errors='coerce')\n",
    "df['days_since_last_review'] = (pd.to_datetime('today') - df['last_review']).dt.days\n",
    "df['days_since_last_review'].fillna(df['days_since_last_review'].max())  # Fill NaN values\n",
    "\n",
    "# Drop the original 'last_review' column if it's no longer needed\n",
    "df.drop(columns=['last_review'], inplace=True)\n",
    "\n",
    "# 4. Ensure all data is numeric (check data types)\n",
    "print(df.dtypes)  # Verify that all columns are numeric\n",
    "\n",
    "X = df.drop(columns=['price'])  # Features (exclude the target column 'price')\n",
    "y = df['price']  # Target column 'price'\n"
   ],
   "id": "aee31f926f676d41",
   "outputs": [
    {
     "name": "stdout",
     "output_type": "stream",
     "text": [
      "id                           int64\n",
      "name                        object\n",
      "host_id                      int64\n",
      "host_name                   object\n",
      "neighbourhood_group          int64\n",
      "                            ...   \n",
      "neighbourhood_Woodhaven       bool\n",
      "neighbourhood_Woodlawn        bool\n",
      "neighbourhood_Woodrow         bool\n",
      "neighbourhood_Woodside        bool\n",
      "days_since_last_review     float64\n",
      "Length: 236, dtype: object\n"
     ]
    }
   ],
   "execution_count": 39
  },
  {
   "metadata": {},
   "cell_type": "markdown",
   "source": [
    "## 4.3. Train XGBoost Model\n",
    "- Define the target variable (`price`) and feature variables (e.g., room type, neighborhood, etc.).\n",
    "- Initialize the XGBoost model with appropriate hyperparameters.\n",
    "- Train the model on the training dataset and monitor performance using cross-validation.\n"
   ],
   "id": "f7de4542c1f8c263"
  },
  {
   "metadata": {
    "ExecuteTime": {
     "end_time": "2025-04-30T07:11:22.954971Z",
     "start_time": "2025-04-30T07:11:17.968100Z"
    }
   },
   "cell_type": "code",
   "source": [
    "import pandas as pd\n",
    "import xgboost as xgb\n",
    "from sklearn.model_selection import train_test_split\n",
    "from sklearn.metrics import mean_absolute_error, mean_squared_error, r2_score\n",
    "from sklearn.preprocessing import OneHotEncoder\n",
    "import numpy as np\n",
    "\n",
    "# Drop non-informative columns (e.g., 'name', 'host_name') from the dataset\n",
    "cols_to_drop = ['name', 'host_name']  # List of columns you want to drop\n",
    "df = df.drop(columns=[col for col in cols_to_drop if col in df.columns])  # Drop only existing columns\n",
    "\n",
    "# Clean column names (remove leading/trailing spaces if any)\n",
    "df.columns = df.columns.str.strip()\n",
    "\n",
    "# Check if the columns for encoding exist\n",
    "categorical_cols = ['neighbourhood_group', 'room_type']\n",
    "\n",
    "# Print out columns to make sure they are correct\n",
    "print(f\"Available columns in the dataset: {df.columns.tolist()}\")\n",
    "\n",
    "# Encode categorical features using OneHotEncoder\n",
    "if all(col in df.columns for col in categorical_cols):  # Check if all columns exist\n",
    "    encoder = OneHotEncoder(sparse_output=False, drop='first')  # Avoid dummy variable trap\n",
    "    X_encoded = encoder.fit_transform(df[categorical_cols])\n",
    "\n",
    "    # Replace categorical columns with encoded values\n",
    "    encoded_df = pd.DataFrame(X_encoded, columns=encoder.get_feature_names_out(categorical_cols))\n",
    "    df = df.drop(columns=categorical_cols)  # Drop the original categorical columns\n",
    "    df = pd.concat([df, encoded_df], axis=1)  # Concatenate the encoded columns back\n",
    "else:\n",
    "    print(f\"Some of the specified columns are missing: {set(categorical_cols) - set(df.columns)}\")\n",
    "\n",
    "# Split data into features (X) and target (y)\n",
    "X = df.drop(columns=['price'])\n",
    "y = df['price']\n",
    "\n",
    "# Split data into train and test sets\n",
    "X_train, X_test, y_train, y_test = train_test_split(X, y, test_size=0.2, random_state=42)\n",
    "\n",
    "# Convert to DMatrix for XGBoost\n",
    "train_dmatrix = xgb.DMatrix(X_train, label=y_train)\n",
    "test_dmatrix = xgb.DMatrix(X_test, label=y_test)\n",
    "\n",
    "# Define the model parameters\n",
    "params = {\n",
    "    'objective': 'reg:squarederror',  # Regression task\n",
    "    'eval_metric': 'rmse',  # RMSE for regression\n",
    "    'max_depth': 6,  # Maximum depth of each tree\n",
    "    'learning_rate': 0.1,  # Step size for boosting\n",
    "    'n_estimators': 100,  # Number of boosting rounds (trees)\n",
    "    'colsample_bytree': 0.8,  # Fraction of features used for each tree\n",
    "    'subsample': 0.8,  # Fraction of data used for each tree\n",
    "    'gamma': 0,  # Regularization parameter\n",
    "    'random_state': 42  # Ensure reproducibility\n",
    "}\n",
    "\n",
    "# Train the model using cross-validation\n",
    "cv_results = xgb.cv(\n",
    "    params=params,\n",
    "    dtrain=train_dmatrix,\n",
    "    num_boost_round=1000,\n",
    "    early_stopping_rounds=10,\n",
    "    nfold=5,  # 5-fold cross-validation\n",
    "    metrics=\"rmse\",\n",
    "    as_pandas=True,\n",
    "    seed=42\n",
    ")\n",
    "\n",
    "# Display cross-validation results\n",
    "print(cv_results)\n",
    "\n",
    "# Extract the best number of boosting rounds from the cross-validation results\n",
    "best_num_rounds = cv_results['test-rmse-mean'].idxmin()\n",
    "\n",
    "# Train the final model with the optimal number of boosting rounds\n",
    "model = xgb.train(\n",
    "    params=params,\n",
    "    dtrain=train_dmatrix,\n",
    "    num_boost_round=best_num_rounds\n",
    ")\n",
    "\n",
    "# Predict on the test data\n",
    "y_pred = model.predict(test_dmatrix)\n",
    "\n",
    "# Evaluate model performance\n",
    "mae = mean_absolute_error(y_test, y_pred)\n",
    "mse = mean_squared_error(y_test, y_pred)\n",
    "rmse = np.sqrt(mse)\n",
    "r2 = r2_score(y_test, y_pred)\n",
    "\n",
    "# Display performance metrics\n",
    "print(f\"MAE: {mae}\")\n",
    "print(f\"MSE: {mse}\")\n",
    "print(f\"RMSE: {rmse}\")\n",
    "print(f\"R^2: {r2}\")\n"
   ],
   "id": "b506cc411b4b1298",
   "outputs": [
    {
     "name": "stdout",
     "output_type": "stream",
     "text": [
      "Available columns in the dataset: ['id', 'host_id', 'neighbourhood_group', 'latitude', 'longitude', 'price', 'minimum_nights', 'number_of_reviews', 'reviews_per_month', 'calculated_host_listings_count', 'availability_365', 'room_type_Private room', 'room_type_Shared room', 'neighbourhood_Arden Heights', 'neighbourhood_Arrochar', 'neighbourhood_Arverne', 'neighbourhood_Astoria', 'neighbourhood_Bath Beach', 'neighbourhood_Battery Park City', 'neighbourhood_Bay Ridge', 'neighbourhood_Bay Terrace', 'neighbourhood_Bay Terrace, Staten Island', 'neighbourhood_Baychester', 'neighbourhood_Bayside', 'neighbourhood_Bayswater', 'neighbourhood_Bedford-Stuyvesant', 'neighbourhood_Belle Harbor', 'neighbourhood_Bellerose', 'neighbourhood_Belmont', 'neighbourhood_Bensonhurst', 'neighbourhood_Bergen Beach', 'neighbourhood_Boerum Hill', 'neighbourhood_Borough Park', 'neighbourhood_Breezy Point', 'neighbourhood_Briarwood', 'neighbourhood_Brighton Beach', 'neighbourhood_Bronxdale', 'neighbourhood_Brooklyn Heights', 'neighbourhood_Brownsville', \"neighbourhood_Bull's Head\", 'neighbourhood_Bushwick', 'neighbourhood_Cambria Heights', 'neighbourhood_Canarsie', 'neighbourhood_Carroll Gardens', 'neighbourhood_Castle Hill', 'neighbourhood_Castleton Corners', 'neighbourhood_Chelsea', 'neighbourhood_Chinatown', 'neighbourhood_City Island', 'neighbourhood_Civic Center', 'neighbourhood_Claremont Village', 'neighbourhood_Clason Point', 'neighbourhood_Clifton', 'neighbourhood_Clinton Hill', 'neighbourhood_Co-op City', 'neighbourhood_Cobble Hill', 'neighbourhood_College Point', 'neighbourhood_Columbia St', 'neighbourhood_Concord', 'neighbourhood_Concourse', 'neighbourhood_Concourse Village', 'neighbourhood_Coney Island', 'neighbourhood_Corona', 'neighbourhood_Crown Heights', 'neighbourhood_Cypress Hills', 'neighbourhood_DUMBO', 'neighbourhood_Ditmars Steinway', 'neighbourhood_Dongan Hills', 'neighbourhood_Douglaston', 'neighbourhood_Downtown Brooklyn', 'neighbourhood_Dyker Heights', 'neighbourhood_East Elmhurst', 'neighbourhood_East Flatbush', 'neighbourhood_East Harlem', 'neighbourhood_East Morrisania', 'neighbourhood_East New York', 'neighbourhood_East Village', 'neighbourhood_Eastchester', 'neighbourhood_Edenwald', 'neighbourhood_Edgemere', 'neighbourhood_Elmhurst', 'neighbourhood_Eltingville', 'neighbourhood_Emerson Hill', 'neighbourhood_Far Rockaway', 'neighbourhood_Fieldston', 'neighbourhood_Financial District', 'neighbourhood_Flatbush', 'neighbourhood_Flatiron District', 'neighbourhood_Flatlands', 'neighbourhood_Flushing', 'neighbourhood_Fordham', 'neighbourhood_Forest Hills', 'neighbourhood_Fort Greene', 'neighbourhood_Fort Hamilton', 'neighbourhood_Fort Wadsworth', 'neighbourhood_Fresh Meadows', 'neighbourhood_Glendale', 'neighbourhood_Gowanus', 'neighbourhood_Gramercy', 'neighbourhood_Graniteville', 'neighbourhood_Grant City', 'neighbourhood_Gravesend', 'neighbourhood_Great Kills', 'neighbourhood_Greenpoint', 'neighbourhood_Greenwich Village', 'neighbourhood_Grymes Hill', 'neighbourhood_Harlem', \"neighbourhood_Hell's Kitchen\", 'neighbourhood_Highbridge', 'neighbourhood_Hollis', 'neighbourhood_Holliswood', 'neighbourhood_Howard Beach', 'neighbourhood_Howland Hook', 'neighbourhood_Huguenot', 'neighbourhood_Hunts Point', 'neighbourhood_Inwood', 'neighbourhood_Jackson Heights', 'neighbourhood_Jamaica', 'neighbourhood_Jamaica Estates', 'neighbourhood_Jamaica Hills', 'neighbourhood_Kensington', 'neighbourhood_Kew Gardens', 'neighbourhood_Kew Gardens Hills', 'neighbourhood_Kingsbridge', 'neighbourhood_Kips Bay', 'neighbourhood_Laurelton', 'neighbourhood_Lighthouse Hill', 'neighbourhood_Little Italy', 'neighbourhood_Little Neck', 'neighbourhood_Long Island City', 'neighbourhood_Longwood', 'neighbourhood_Lower East Side', 'neighbourhood_Manhattan Beach', 'neighbourhood_Marble Hill', 'neighbourhood_Mariners Harbor', 'neighbourhood_Maspeth', 'neighbourhood_Melrose', 'neighbourhood_Middle Village', 'neighbourhood_Midland Beach', 'neighbourhood_Midtown', 'neighbourhood_Midwood', 'neighbourhood_Mill Basin', 'neighbourhood_Morningside Heights', 'neighbourhood_Morris Heights', 'neighbourhood_Morris Park', 'neighbourhood_Morrisania', 'neighbourhood_Mott Haven', 'neighbourhood_Mount Eden', 'neighbourhood_Mount Hope', 'neighbourhood_Murray Hill', 'neighbourhood_Navy Yard', 'neighbourhood_Neponsit', 'neighbourhood_New Brighton', 'neighbourhood_New Dorp', 'neighbourhood_New Dorp Beach', 'neighbourhood_New Springville', 'neighbourhood_NoHo', 'neighbourhood_Nolita', 'neighbourhood_North Riverdale', 'neighbourhood_Norwood', 'neighbourhood_Oakwood', 'neighbourhood_Olinville', 'neighbourhood_Ozone Park', 'neighbourhood_Park Slope', 'neighbourhood_Parkchester', 'neighbourhood_Pelham Bay', 'neighbourhood_Pelham Gardens', 'neighbourhood_Port Morris', 'neighbourhood_Port Richmond', \"neighbourhood_Prince's Bay\", 'neighbourhood_Prospect Heights', 'neighbourhood_Prospect-Lefferts Gardens', 'neighbourhood_Queens Village', 'neighbourhood_Randall Manor', 'neighbourhood_Red Hook', 'neighbourhood_Rego Park', 'neighbourhood_Richmond Hill', 'neighbourhood_Richmondtown', 'neighbourhood_Ridgewood', 'neighbourhood_Riverdale', 'neighbourhood_Rockaway Beach', 'neighbourhood_Roosevelt Island', 'neighbourhood_Rosebank', 'neighbourhood_Rosedale', 'neighbourhood_Rossville', 'neighbourhood_Schuylerville', 'neighbourhood_Sea Gate', 'neighbourhood_Sheepshead Bay', 'neighbourhood_Shore Acres', 'neighbourhood_Silver Lake', 'neighbourhood_SoHo', 'neighbourhood_Soundview', 'neighbourhood_South Beach', 'neighbourhood_South Ozone Park', 'neighbourhood_South Slope', 'neighbourhood_Springfield Gardens', 'neighbourhood_Spuyten Duyvil', 'neighbourhood_St. Albans', 'neighbourhood_St. George', 'neighbourhood_Stapleton', 'neighbourhood_Stuyvesant Town', 'neighbourhood_Sunnyside', 'neighbourhood_Sunset Park', 'neighbourhood_Theater District', 'neighbourhood_Throgs Neck', 'neighbourhood_Todt Hill', 'neighbourhood_Tompkinsville', 'neighbourhood_Tottenville', 'neighbourhood_Tremont', 'neighbourhood_Tribeca', 'neighbourhood_Two Bridges', 'neighbourhood_Unionport', 'neighbourhood_University Heights', 'neighbourhood_Upper East Side', 'neighbourhood_Upper West Side', 'neighbourhood_Van Nest', 'neighbourhood_Vinegar Hill', 'neighbourhood_Wakefield', 'neighbourhood_Washington Heights', 'neighbourhood_West Brighton', 'neighbourhood_West Farms', 'neighbourhood_West Village', 'neighbourhood_Westchester Square', 'neighbourhood_Westerleigh', 'neighbourhood_Whitestone', 'neighbourhood_Williamsbridge', 'neighbourhood_Williamsburg', 'neighbourhood_Willowbrook', 'neighbourhood_Windsor Terrace', 'neighbourhood_Woodhaven', 'neighbourhood_Woodlawn', 'neighbourhood_Woodrow', 'neighbourhood_Woodside', 'days_since_last_review']\n",
      "Some of the specified columns are missing: {'room_type'}\n"
     ]
    },
    {
     "name": "stderr",
     "output_type": "stream",
     "text": [
      "C:\\Users\\thinkbook14\\miniconda3\\Lib\\site-packages\\xgboost\\training.py:209: UserWarning: [02:11:18] WARNING: C:\\actions-runner\\_work\\xgboost\\xgboost\\src\\learner.cc:738: \n",
      "Parameters: { \"n_estimators\" } are not used.\n",
      "\n",
      "  return getattr(self.bst, name)(*args, **kwargs)\n",
      "C:\\Users\\thinkbook14\\miniconda3\\Lib\\site-packages\\xgboost\\training.py:215: UserWarning: [02:11:18] WARNING: C:\\actions-runner\\_work\\xgboost\\xgboost\\src\\learner.cc:738: \n",
      "Parameters: { \"n_estimators\" } are not used.\n",
      "\n",
      "  self.bst.update(self.dtrain, iteration, fobj)\n"
     ]
    },
    {
     "name": "stdout",
     "output_type": "stream",
     "text": [
      "     train-rmse-mean  train-rmse-std  test-rmse-mean  test-rmse-std\n",
      "0         241.304064        3.144116      243.571641      11.814841\n",
      "1         237.196639        3.483915      242.030729      11.767773\n",
      "2         233.089344        3.667588      239.971770      12.031016\n",
      "3         229.314766        3.779720      238.413133      12.139299\n",
      "4         225.715479        3.469233      236.785685      12.073633\n",
      "..               ...             ...             ...            ...\n",
      "128       133.793505        3.535116      222.287880      12.831638\n",
      "129       133.451208        3.534239      222.291435      12.838400\n",
      "130       133.135814        3.557117      222.312124      12.807152\n",
      "131       132.865561        3.518886      222.267633      12.770069\n",
      "132       132.443626        3.498891      222.176855      12.937111\n",
      "\n",
      "[133 rows x 4 columns]\n"
     ]
    },
    {
     "name": "stderr",
     "output_type": "stream",
     "text": [
      "C:\\Users\\thinkbook14\\miniconda3\\Lib\\site-packages\\xgboost\\training.py:183: UserWarning: [02:11:22] WARNING: C:\\actions-runner\\_work\\xgboost\\xgboost\\src\\learner.cc:738: \n",
      "Parameters: { \"n_estimators\" } are not used.\n",
      "\n",
      "  bst.update(dtrain, iteration=i, fobj=obj)\n"
     ]
    },
    {
     "name": "stdout",
     "output_type": "stream",
     "text": [
      "MAE: 62.4056396484375\n",
      "MSE: 38316.8515625\n",
      "RMSE: 195.74690690404282\n",
      "R^2: 0.1338523030281067\n"
     ]
    }
   ],
   "execution_count": 51
  },
  {
   "metadata": {},
   "cell_type": "markdown",
   "source": [
    "## 4.4. Hyperparameter Tuning\n",
    "- Perform hyperparameter tuning using techniques such as grid search or random search to find the optimal settings for the model (e.g., learning rate, max depth, number of estimators).\n"
   ],
   "id": "616db2230db7773"
  },
  {
   "metadata": {
    "ExecuteTime": {
     "end_time": "2025-04-30T07:35:28.431196Z",
     "start_time": "2025-04-30T07:34:48.156988Z"
    }
   },
   "cell_type": "code",
   "source": [
    "from sklearn.model_selection import GridSearchCV\n",
    "from sklearn.metrics import make_scorer, mean_squared_error, mean_absolute_error, r2_score\n",
    "import xgboost as xgb\n",
    "\n",
    "# Simplified parameter grid\n",
    "param_grid = {\n",
    "    'learning_rate': [0.05, 0.1],        # 2 choices\n",
    "    'max_depth': [4, 6],                 # 2 choices\n",
    "    'n_estimators': [100, 150],          # 2 choices\n",
    "    'subsample': [0.8, 1.0],             # 2 choices\n",
    "    'colsample_bytree': [0.8, 1.0],      # 2 choices\n",
    "}\n",
    "\n",
    "# XGBoost model (add tree_method='gpu_hist' if GPU is configured)\n",
    "xgb_regressor = xgb.XGBRegressor(objective='reg:squarederror', random_state=42)\n",
    "\n",
    "# Custom scoring function: negative mean squared error (lower is better)\n",
    "scorer = make_scorer(mean_squared_error, greater_is_better=False)\n",
    "\n",
    "# Set up GridSearchCV\n",
    "grid_search = GridSearchCV(\n",
    "    estimator=xgb_regressor,\n",
    "    param_grid=param_grid,\n",
    "    cv=5,\n",
    "    n_jobs=-1,\n",
    "    scoring=scorer,\n",
    "    verbose=1\n",
    ")\n",
    "\n",
    "# Start hyperparameter tuning\n",
    "grid_search.fit(X_train, y_train)\n",
    "\n",
    "# Get best parameters and score\n",
    "best_params = grid_search.best_params_\n",
    "best_score = grid_search.best_score_\n",
    "\n",
    "print(f\"Best Hyperparameters: {best_params}\")\n",
    "print(f\"Best Cross-validation Score (Negative MSE): {best_score}\")\n",
    "\n",
    "# Use the best model to predict the test set\n",
    "best_model = grid_search.best_estimator_\n",
    "y_pred = best_model.predict(X_test)\n",
    "\n",
    "# Compute evaluation metrics\n",
    "mae = mean_absolute_error(y_test, y_pred)\n",
    "mse = mean_squared_error(y_test, y_pred)\n",
    "rmse = mse ** 0.5\n",
    "r2 = r2_score(y_test, y_pred)\n",
    "\n",
    "print(f\"MAE: {mae}\")\n",
    "print(f\"MSE: {mse}\")\n",
    "print(f\"RMSE: {rmse}\")\n",
    "print(f\"R^2: {r2}\")\n"
   ],
   "id": "27bd87e7f3ad02ef",
   "outputs": [
    {
     "name": "stdout",
     "output_type": "stream",
     "text": [
      "Fitting 5 folds for each of 32 candidates, totalling 160 fits\n",
      "Best Hyperparameters: {'colsample_bytree': 0.8, 'learning_rate': 0.05, 'max_depth': 6, 'n_estimators': 150, 'subsample': 0.8}\n",
      "Best Cross-validation Score (Negative MSE): -52132.134375\n",
      "MAE: 61.74368667602539\n",
      "MSE: 36699.6640625\n",
      "RMSE: 191.57156381493576\n",
      "R^2: 0.17040860652923584\n"
     ]
    }
   ],
   "execution_count": 58
  },
  {
   "metadata": {},
   "cell_type": "markdown",
   "source": [
    "## 4.5. Model Evaluation\n",
    "- Evaluate the model's performance using metrics such as Mean Absolute Error (MAE), Root Mean Squared Error (RMSE), and R².\n",
    "- Analyze feature importance to understand which variables have the most impact on price prediction."
   ],
   "id": "5a30bf236014fb54"
  },
  {
   "metadata": {},
   "cell_type": "markdown",
   "source": [
    "After training the XGBoost regressor with the best hyperparameters obtained through Grid Search, we evaluated the model's performance using standard regression metrics:\n",
    "\n",
    "### Best Hyperparameters\n",
    "\n",
    "```python\n",
    "{\n",
    "    'colsample_bytree': 0.8,\n",
    "    'learning_rate': 0.05,\n",
    "    'max_depth': 6,\n",
    "    'n_estimators': 150,\n",
    "    'subsample': 0.8\n",
    "}"
   ],
   "id": "15f678e0365b7d0c"
  },
  {
   "metadata": {},
   "cell_type": "markdown",
   "source": [
    "## 4.6. Model Interpretation\n",
    "- Interpret the model's predictions and feature importance.\n",
    "- Discuss potential improvements or further experiments to enhance model accuracy."
   ],
   "id": "6cd412cae9334e68"
  },
  {
   "metadata": {},
   "cell_type": "markdown",
   "source": [
    "After evaluating the model performance, it is important to understand how the model makes predictions and which features contribute most to those predictions.\n",
    "\n",
    "### Feature Importance\n",
    "\n",
    "We use XGBoost's built-in `plot_importance` function to visualize the top contributing features:\n",
    "\n",
    "```python\n",
    "from xgboost import plot_importance\n",
    "import matplotlib.pyplot as plt\n",
    "\n",
    "plot_importance(best_model, max_num_features=20, height=0.5)\n",
    "plt.title(\"Top 20 Feature Importances\")\n",
    "plt.show()"
   ],
   "id": "e91fa914257a44da"
  },
  {
   "metadata": {},
   "cell_type": "markdown",
   "source": [
    "## 4.7. Conclusion\n",
    "- Summarize the key findings from applying the XGBoost model to the dataset.\n",
    "- Provide recommendations for potential future work or use cases for the model."
   ],
   "id": "a0d91a2ef39bf5e9"
  },
  {
   "metadata": {},
   "cell_type": "markdown",
   "source": [
    "### Summary of Findings\n",
    "\n",
    "In this project, we applied the XGBoost regression model to predict Airbnb listing prices in New York City using a range of features such as location, room type, minimum nights, and review counts. After data preprocessing and hyperparameter tuning, we achieved the following model performance on the test set:\n",
    "\n",
    "- **Mean Absolute Error (MAE)**: ~61.74\n",
    "- **Mean Squared Error (MSE)**: ~36,699.66\n",
    "- **Root Mean Squared Error (RMSE)**: ~191.57\n",
    "- **R² Score**: ~0.17\n",
    "\n",
    "These results indicate that the model captures some patterns in the data but still leaves room for improvement. Feature importance analysis revealed that location (latitude and longitude), number of reviews, and room type are among the most influential predictors.\n",
    "\n",
    "### Recommendations for Future Work\n",
    "\n",
    "To improve model performance and generalizability, the following steps are recommended:\n",
    "\n",
    "- **Enhanced Feature Engineering**: Create composite or derived features (e.g., price per night, host experience, spatial clusters).\n",
    "- **Outlier Treatment**: Remove or transform extreme values in variables like `price`, `minimum_nights`, or `reviews`.\n",
    "- **Use of Temporal Information**: Incorporate booking date or listing age to capture seasonal trends.\n",
    "- **Geospatial Modeling**: Explore spatial clustering or distance-based features (e.g., distance to city center or landmarks).\n",
    "- **Model Comparison**: Evaluate alternative algorithms such as LightGBM, CatBoost, or deep neural networks.\n",
    "- **Production Deployment**: With improved accuracy, the model could serve as a pricing assistant for hosts or a validation system for pricing anomalies.\n",
    "\n",
    "In conclusion, XGBoost provides a strong baseline model for predicting Airbnb prices, and with further refinement, it could be used in real-world pricing tools or market analytics platforms.\n"
   ],
   "id": "e7d0b7c5f001ca02"
  },
  {
   "metadata": {},
   "cell_type": "code",
   "outputs": [],
   "execution_count": null,
   "source": "",
   "id": "473164067be6a747"
  }
 ],
 "metadata": {
  "kernelspec": {
   "display_name": "Python 3",
   "language": "python",
   "name": "python3"
  },
  "language_info": {
   "codemirror_mode": {
    "name": "ipython",
    "version": 2
   },
   "file_extension": ".py",
   "mimetype": "text/x-python",
   "name": "python",
   "nbconvert_exporter": "python",
   "pygments_lexer": "ipython2",
   "version": "2.7.6"
  }
 },
 "nbformat": 4,
 "nbformat_minor": 5
}
